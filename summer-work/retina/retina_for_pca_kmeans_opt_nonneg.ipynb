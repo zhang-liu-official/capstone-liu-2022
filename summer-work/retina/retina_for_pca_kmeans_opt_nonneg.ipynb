{
 "cells": [
  {
   "cell_type": "markdown",
   "metadata": {},
   "source": [
    "# Results for non-negative direct optimization method"
   ]
  },
  {
   "cell_type": "code",
   "execution_count": null,
   "metadata": {
    "ExecuteTime": {
     "end_time": "2022-04-03T21:42:09.725371Z",
     "start_time": "2022-04-03T21:42:08.333969Z"
    }
   },
   "outputs": [],
   "source": [
    "from scipy.io import loadmat \n",
    "import numpy as np\n",
    "from sklearn.cluster import KMeans\n",
    "from sklearn.decomposition import PCA\n",
    "from sklearn.metrics import silhouette_score\n",
    "import matplotlib.pyplot as plt"
   ]
  },
  {
   "cell_type": "markdown",
   "metadata": {},
   "source": [
    "## quick example with 2 clusters"
   ]
  },
  {
   "cell_type": "code",
   "execution_count": null,
   "metadata": {
    "ExecuteTime": {
     "end_time": "2022-04-03T21:42:40.004452Z",
     "start_time": "2022-04-03T21:42:39.975361Z"
    }
   },
   "outputs": [],
   "source": [
    "F = loadmat('factors_opt_nonneg.mat')['F']\n",
    "pca = PCA(35)\n",
    "X = pca.fit_transform(F)"
   ]
  },
  {
   "cell_type": "code",
   "execution_count": null,
   "metadata": {
    "ExecuteTime": {
     "end_time": "2022-04-03T21:42:40.850315Z",
     "start_time": "2022-04-03T21:42:40.838919Z"
    }
   },
   "outputs": [],
   "source": [
    "F.shape"
   ]
  },
  {
   "cell_type": "code",
   "execution_count": null,
   "metadata": {
    "ExecuteTime": {
     "end_time": "2022-04-03T21:42:41.601595Z",
     "start_time": "2022-04-03T21:42:41.506865Z"
    }
   },
   "outputs": [],
   "source": [
    "plt.plot(F[:,0])"
   ]
  },
  {
   "cell_type": "code",
   "execution_count": null,
   "metadata": {
    "ExecuteTime": {
     "end_time": "2022-04-03T21:42:42.384547Z",
     "start_time": "2022-04-03T21:42:42.275443Z"
    }
   },
   "outputs": [],
   "source": [
    "plt.plot(F[:,4])"
   ]
  },
  {
   "cell_type": "code",
   "execution_count": null,
   "metadata": {
    "ExecuteTime": {
     "end_time": "2022-04-03T21:42:43.294868Z",
     "start_time": "2022-04-03T21:42:43.190192Z"
    }
   },
   "outputs": [],
   "source": [
    "plt.plot(pca.explained_variance_)\n",
    "plt.title('Principal Values')"
   ]
  },
  {
   "cell_type": "code",
   "execution_count": null,
   "metadata": {
    "ExecuteTime": {
     "end_time": "2022-04-03T21:42:44.157752Z",
     "start_time": "2022-04-03T21:42:44.142676Z"
    }
   },
   "outputs": [],
   "source": [
    "X.shape"
   ]
  },
  {
   "cell_type": "code",
   "execution_count": null,
   "metadata": {
    "ExecuteTime": {
     "end_time": "2022-04-03T21:51:14.572565Z",
     "start_time": "2022-04-03T21:51:14.510733Z"
    }
   },
   "outputs": [],
   "source": [
    "kmeans = KMeans(init=\"random\", n_clusters=6, n_init=10, max_iter=5000, random_state=42)\n",
    "kmeans.fit(X)\n",
    "centroids = kmeans.cluster_centers_\n",
    "clusters = kmeans.labels_"
   ]
  },
  {
   "cell_type": "code",
   "execution_count": null,
   "metadata": {
    "ExecuteTime": {
     "end_time": "2022-04-03T21:51:15.533547Z",
     "start_time": "2022-04-03T21:51:15.519574Z"
    }
   },
   "outputs": [],
   "source": [
    "clusters.shape"
   ]
  },
  {
   "cell_type": "code",
   "execution_count": null,
   "metadata": {
    "ExecuteTime": {
     "end_time": "2022-04-03T21:51:16.462764Z",
     "start_time": "2022-04-03T21:51:16.448206Z"
    }
   },
   "outputs": [],
   "source": [
    "neuron_labels = np.array(clusters)"
   ]
  },
  {
   "cell_type": "code",
   "execution_count": null,
   "metadata": {
    "ExecuteTime": {
     "end_time": "2022-04-03T22:05:25.454273Z",
     "start_time": "2022-04-03T22:05:25.413421Z"
    }
   },
   "outputs": [],
   "source": [
    "import plotly.graph_objects as go\n",
    "import plotly.express as px\n",
    "\n",
    "fig = go.Figure()\n",
    "traces = []\n",
    "colors_palette = px.colors.qualitative.Dark24\n",
    "data = X\n",
    "\n",
    "for i, label in enumerate(set(neuron_labels)):\n",
    "    mask = (neuron_labels == label)\n",
    "    print(label, sum(mask))\n",
    "    traces.append(go.Scatter3d(\n",
    "        x=data[mask,0],\n",
    "        y=data[mask,1],\n",
    "        z=data[mask,2],\n",
    "        mode='markers',\n",
    "        marker=dict(\n",
    "            size=2.5,\n",
    "            color=colors_palette[i],\n",
    "            opacity=1,\n",
    "\n",
    "            #showscale= True,\n",
    "        )))\n",
    "\n",
    "for trace in traces:\n",
    "    fig.add_trace(trace)\n",
    "\n",
    "fig.update_layout(margin=dict(l=0, r=0, b=0, t=0),showlegend=True,)\n",
    "fig.show()"
   ]
  },
  {
   "cell_type": "code",
   "execution_count": null,
   "metadata": {
    "ExecuteTime": {
     "end_time": "2022-04-03T21:50:14.047608Z",
     "start_time": "2022-04-03T21:50:13.921943Z"
    }
   },
   "outputs": [],
   "source": [
    "ax = plt.axes(projection='3d')\n",
    "ax.scatter(X[:, 0], X[:,1], X[:,2], c=clusters, s=50, cmap='viridis')"
   ]
  },
  {
   "cell_type": "code",
   "execution_count": null,
   "metadata": {
    "ExecuteTime": {
     "end_time": "2022-04-03T21:55:01.002893Z",
     "start_time": "2022-04-03T21:55:00.362542Z"
    }
   },
   "outputs": [],
   "source": [
    "scores = []\n",
    "from sklearn.metrics import davies_bouldin_score\n",
    "from sklearn.metrics import calinski_harabasz_score\n",
    "\n",
    "for i in range(2,15):\n",
    "    kmeans = KMeans(init=\"random\", n_clusters=i, n_init=10, max_iter=5000, random_state=42)\n",
    "    kmeans.fit(X)\n",
    "    centroids = kmeans.cluster_centers_\n",
    "    clusters = kmeans.labels_\n",
    "    scores.append(calinski_harabasz_score(X, clusters))\n",
    "plt.plot(scores)"
   ]
  },
  {
   "cell_type": "markdown",
   "metadata": {},
   "source": [
    "## find the optimal number of clusters, $k$"
   ]
  },
  {
   "cell_type": "markdown",
   "metadata": {},
   "source": [
    "Solutions: \n",
    "1. gap statistics https://towardsdatascience.com/k-means-clustering-and-the-gap-statistics-4c5d414acd29\n",
    "2. elbow method https://towardsdatascience.com/cheat-sheet-to-implementing-7-methods-for-selecting-optimal-number-of-clusters-in-python-898241e1d6ad\n",
    "I chose to use the elbow method which seemed to be the most popular one.\n",
    "\n",
    "Documentation for yellowbrick: https://www.scikit-yb.org/en/latest/api/cluster/elbow.html\n"
   ]
  },
  {
   "cell_type": "code",
   "execution_count": null,
   "metadata": {
    "ExecuteTime": {
     "end_time": "2022-04-03T21:55:20.045661Z",
     "start_time": "2022-04-03T21:55:19.351875Z"
    }
   },
   "outputs": [],
   "source": [
    "# Elbow Method for K means\n",
    "# Import ElbowVisualizer\n",
    "from yellowbrick.cluster import KElbowVisualizer\n",
    "model = KMeans()\n",
    "# k is range of number of clusters.\n",
    "visualizer = KElbowVisualizer(model, k=(2,10), metric='distortion', timings= False)\n",
    "visualizer.fit(X)        # Fit data to visualizer\n",
    "visualizer.show()        # Finalize and render figure"
   ]
  },
  {
   "cell_type": "markdown",
   "metadata": {},
   "source": [
    "From the above plot, we observed that the elbow value is at K = 32, showing that the optimal number of clusters is 32. Thus we re-run the kmeans clustering with K = 32."
   ]
  },
  {
   "cell_type": "code",
   "execution_count": null,
   "metadata": {
    "ExecuteTime": {
     "end_time": "2022-04-03T21:53:25.641903Z",
     "start_time": "2022-04-03T21:53:25.579072Z"
    }
   },
   "outputs": [],
   "source": [
    "K = 6\n",
    "kmeans = KMeans(init=\"random\", n_clusters=K, n_init=10, max_iter=300, random_state=42)\n",
    "kmeans.fit(X)\n",
    "centroids = kmeans.cluster_centers_\n",
    "clusters = kmeans.labels_"
   ]
  },
  {
   "cell_type": "code",
   "execution_count": null,
   "metadata": {
    "ExecuteTime": {
     "end_time": "2022-04-03T21:53:27.393070Z",
     "start_time": "2022-04-03T21:53:27.276546Z"
    }
   },
   "outputs": [],
   "source": [
    "\n",
    "ax = plt.axes(projection='3d')\n",
    "ax.scatter(X[:, 0], X[:,1], X[:,2], c=clusters, s=30, cmap='viridis')"
   ]
  },
  {
   "cell_type": "code",
   "execution_count": null,
   "metadata": {
    "ExecuteTime": {
     "end_time": "2022-04-03T21:50:28.796951Z",
     "start_time": "2022-04-03T21:50:28.781983Z"
    }
   },
   "outputs": [],
   "source": [
    "retina_original_data = loadmat('retina-201205_bg_bothDs_1_3b50subMeanSclStimsDel142.mat')['X']"
   ]
  },
  {
   "cell_type": "code",
   "execution_count": null,
   "metadata": {
    "ExecuteTime": {
     "end_time": "2022-04-03T21:47:16.181425Z",
     "start_time": "2022-04-03T21:47:16.162484Z"
    }
   },
   "outputs": [],
   "source": [
    "retina_original_data.shape"
   ]
  },
  {
   "cell_type": "markdown",
   "metadata": {},
   "source": [
    "## test plot for the second cluster"
   ]
  },
  {
   "cell_type": "code",
   "execution_count": null,
   "metadata": {
    "ExecuteTime": {
     "end_time": "2022-04-03T21:53:32.157319Z",
     "start_time": "2022-04-03T21:53:31.575474Z"
    }
   },
   "outputs": [],
   "source": [
    "faces_clusters =  [[] for k in range(K)] \n",
    "for i in range(698):\n",
    "    faces_clusters[clusters[i]].append(retina_original_data[i,1,:])\n",
    "\n",
    "nfaces = np.zeros(K,dtype=int)\n",
    "## number of faces in the kth cluster:\n",
    "nfaces[2] = len(faces_clusters[2])\n",
    "nrow = int(nfaces[2]/4)\n",
    "fig, axs = plt.subplots(nrow, 4, figsize = (12,4))\n",
    "for i , ax in enumerate(axs.flatten()):\n",
    "    img = faces_clusters[2][i].reshape((8,33),order='F')\n",
    "    ax.imshow(img, cmap = 'viridis') \n",
    "    ax.axis('off')\n",
    "I = i + 1\n",
    "\n",
    "fig, axs2 = plt.subplots(1, nfaces[2] - nrow * 4, figsize = (4,20))\n",
    "for _,ax in enumerate(axs2.flatten()):\n",
    "    img = faces_clusters[2][I].reshape((8,33),order='F')\n",
    "    ax.imshow(img, cmap = 'viridis')\n",
    "    ax.axis('off')\n",
    "    I = I + 1  \n",
    "plt.tight_layout()"
   ]
  },
  {
   "cell_type": "code",
   "execution_count": null,
   "metadata": {
    "ExecuteTime": {
     "end_time": "2022-04-03T21:56:16.296701Z",
     "start_time": "2022-04-03T21:56:04.114672Z"
    }
   },
   "outputs": [],
   "source": [
    "nfaces = np.zeros(K,dtype=int)\n",
    "for k in range(0,K):\n",
    "    ## number of faces in the kth cluster:\n",
    "    nfaces[k] = len(faces_clusters[k])\n",
    "    ncol = 3 \n",
    "    nrow = int(nfaces[k]/ncol)\n",
    "    fig, axs = plt.subplots(nrow, ncol, figsize = (12,6))\n",
    "    for i , ax in enumerate(axs.flatten()):\n",
    "        img = faces_clusters[k][i].reshape((8,33),order='F')\n",
    "        ax.imshow(img, cmap = 'viridis')\n",
    "        ax.axis('off')\n",
    "    fig.suptitle('Given Stimuli Type 1: PSTH in Neuron Cluster ' + str(k + 1), fontsize=16)\n",
    "    \n",
    "    if nfaces[k] - nrow * ncol != 0:\n",
    "        I = i + 1\n",
    "        if nfaces[k] - nrow * ncol == 1:\n",
    "            img = faces_clusters[k][I].reshape((8,33),order='F')\n",
    "            plt.imshow(img, cmap = 'viridis')\n",
    "            plt.axis('off')\n",
    "        else:\n",
    "            fig, axs = plt.subplots(1, nfaces[k] - nrow * ncol, figsize = (6,4))\n",
    "            for i,ax in enumerate(axs):\n",
    "                img = faces_clusters[k][I].reshape((8,33),order='F')\n",
    "                ax.imshow(img, cmap = 'viridis')\n",
    "                ax.axis('off')\n",
    "                I = I + 1  \n",
    "                "
   ]
  },
  {
   "attachments": {},
   "cell_type": "markdown",
   "metadata": {},
   "source": [
    "## hashing for more efficient storage\n"
   ]
  },
  {
   "cell_type": "markdown",
   "metadata": {},
   "source": [
    "## evaluate the performance of clustering"
   ]
  },
  {
   "cell_type": "code",
   "execution_count": null,
   "metadata": {},
   "outputs": [],
   "source": [
    "silhouette_score(X, clusters)"
   ]
  },
  {
   "cell_type": "code",
   "execution_count": null,
   "metadata": {},
   "outputs": [],
   "source": [
    "from sklearn.metrics import davies_bouldin_score\n",
    "davies_bouldin_score(X, clusters)"
   ]
  },
  {
   "cell_type": "code",
   "execution_count": null,
   "metadata": {},
   "outputs": [],
   "source": [
    "from sklearn.metrics import calinski_harabasz_score\n",
    "calinski_harabasz_score(X, clusters)"
   ]
  },
  {
   "cell_type": "code",
   "execution_count": null,
   "metadata": {},
   "outputs": [],
   "source": []
  }
 ],
 "metadata": {
  "kernelspec": {
   "display_name": "Python 3",
   "language": "python",
   "name": "python3"
  },
  "language_info": {
   "codemirror_mode": {
    "name": "ipython",
    "version": 3
   },
   "file_extension": ".py",
   "mimetype": "text/x-python",
   "name": "python",
   "nbconvert_exporter": "python",
   "pygments_lexer": "ipython3",
   "version": "3.8.5"
  },
  "toc": {
   "base_numbering": 1,
   "nav_menu": {},
   "number_sections": true,
   "sideBar": true,
   "skip_h1_title": false,
   "title_cell": "Table of Contents",
   "title_sidebar": "Contents",
   "toc_cell": false,
   "toc_position": {},
   "toc_section_display": true,
   "toc_window_display": false
  },
  "varInspector": {
   "cols": {
    "lenName": 16,
    "lenType": 16,
    "lenVar": 40
   },
   "kernels_config": {
    "python": {
     "delete_cmd_postfix": "",
     "delete_cmd_prefix": "del ",
     "library": "var_list.py",
     "varRefreshCmd": "print(var_dic_list())"
    },
    "r": {
     "delete_cmd_postfix": ") ",
     "delete_cmd_prefix": "rm(",
     "library": "var_list.r",
     "varRefreshCmd": "cat(var_dic_list()) "
    }
   },
   "types_to_exclude": [
    "module",
    "function",
    "builtin_function_or_method",
    "instance",
    "_Feature"
   ],
   "window_display": true
  }
 },
 "nbformat": 4,
 "nbformat_minor": 4
}
