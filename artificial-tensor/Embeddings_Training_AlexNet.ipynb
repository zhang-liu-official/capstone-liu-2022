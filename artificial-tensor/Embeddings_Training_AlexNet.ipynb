{
 "cells": [
  {
   "cell_type": "code",
   "execution_count": 46,
   "metadata": {
    "ExecuteTime": {
     "end_time": "2021-12-06T11:29:11.954819Z",
     "start_time": "2021-12-06T11:29:11.947368Z"
    }
   },
   "outputs": [
    {
     "name": "stdout",
     "output_type": "stream",
     "text": [
      "Tensor Flow Version: 2.5.0\n",
      "numpy Version: 1.21.2\n"
     ]
    }
   ],
   "source": [
    "import tensorflow as tf\n",
    "import numpy as np\n",
    "import pathlib\n",
    "import datetime\n",
    "\n",
    "# printout versions\n",
    "print(f\"Tensor Flow Version: {tf.__version__}\")\n",
    "print(f\"numpy Version: {np.version.version}\")"
   ]
  },
  {
   "cell_type": "code",
   "execution_count": 47,
   "metadata": {
    "ExecuteTime": {
     "end_time": "2021-12-06T11:29:13.513039Z",
     "start_time": "2021-12-06T11:29:13.505908Z"
    }
   },
   "outputs": [],
   "source": [
    "import matplotlib.pyplot as plt\n",
    "from tensorflow.python.keras.layers import InputLayer, Input\n",
    "from keras.models import Model\n",
    "from keras.layers import Dense\n",
    "from keras.layers import Flatten\n",
    "from tensorflow.python.keras import backend as K\n",
    "import math"
   ]
  },
  {
   "cell_type": "markdown",
   "metadata": {},
   "source": [
    "# Code to generate embeddings:"
   ]
  },
  {
   "cell_type": "code",
   "execution_count": 48,
   "metadata": {
    "ExecuteTime": {
     "end_time": "2021-12-06T11:29:14.407408Z",
     "start_time": "2021-12-06T11:29:14.396947Z"
    }
   },
   "outputs": [],
   "source": [
    "def apply_all_shifts(im, shift_step):\n",
    "    '''\n",
    "    arg(s): \n",
    "        im, an image of shape (im_size, im_size, 3)\n",
    "    return: \n",
    "        im_all_shifts, a list of all shifted images from the input image\n",
    "        n_shifts, number of shifted images\n",
    "    '''\n",
    "    \n",
    "    ## vertical size might not be the same as the horizontal\n",
    "    im_size_vertical = im.shape[0]\n",
    "    im_size_horizontal = im.shape[1]\n",
    "    \n",
    "    n_shifts_vertical = int(math.ceil(im_size_vertical/ shift_step))\n",
    "    n_shifts_horizontal = int(math.ceil(im_size_horizontal/ shift_step))\n",
    "    \n",
    "    im_all_shifts = []\n",
    "    im_shift = im\n",
    "    for i in range(n_shifts_vertical):\n",
    "        im_shift = np.roll(im_shift, shift = shift_step * i, axis=0)\n",
    "        \n",
    "        for j in range(n_shifts_horizontal):\n",
    "            im_shift = np.roll(im_shift, shift = shift_step * j, axis=1)\n",
    "            im_all_shifts.append(im_shift)\n",
    "            \n",
    "    im_all_shifts =  np.array(im_all_shifts)\n",
    "    return im_all_shifts, n_shifts_vertical * n_shifts_horizontal"
   ]
  },
  {
   "cell_type": "code",
   "execution_count": 49,
   "metadata": {
    "ExecuteTime": {
     "end_time": "2021-12-06T11:29:14.785289Z",
     "start_time": "2021-12-06T11:29:14.774319Z"
    }
   },
   "outputs": [],
   "source": [
    " def compute_neuron_output_alt(layer_indices, images, plot_activity = False):\n",
    "\n",
    "    '''\n",
    "    arg(s):\n",
    "        layer_indices: list of the indices of the layers we want to take neuron outputs from\n",
    "        images: an array of images (stimuli)\n",
    "    return:\n",
    "        \n",
    "    '''\n",
    "    n_layers = len(layer_indices)\n",
    "    neuron_output_highest = []\n",
    "    all_fm_avg = []\n",
    "    neuron_labels = []\n",
    "    \n",
    "    for layer_index in layer_indices:\n",
    "        layer = model.layers[layer_index] \n",
    "        \n",
    "        # check for convolutional layer\n",
    "        if 'conv' not in layer.name:\n",
    "            continue\n",
    "        \n",
    "        ## note: always take the images as inputs\n",
    "        output_layer = K.function(inputs=[model.layers[1].input], \n",
    "                              outputs=[layer.output])\n",
    "        \n",
    "        ## output is n feature maps\n",
    "        neuron_output = output_layer(images)[0]\n",
    "   \n",
    "        ## number of neurons is nrow * ncol * n_feature_maps\n",
    "        n_images, n_row, n_col, n_feature_maps = neuron_output.shape[:]\n",
    "        n_neurons = n_row * n_col\n",
    "        \n",
    "#         ## remove the neurons at the edges\n",
    "#         neuron_removed_index = neuron_index[:,2:(n_row-2),2:(n_col-2),:]\n",
    "#         n_images, n_row, n_col, n_feature_maps = neuron_output.shape[:]\n",
    "#         n_neurons = n_row * n_col\n",
    "        \n",
    "        neuron_index = np.empty((n_row,n_col),dtype=int)\n",
    "        index = 0\n",
    "        for i in range(n_row):\n",
    "            for j in range(n_col):\n",
    "                neuron_index[i, j] = index\n",
    "                index += 1\n",
    "                \n",
    "        ## obtain the index of the neurons at the edges\n",
    "        neuron_edge_index = np.hstack((neuron_index[[0,1,n_row-2,n_row-1],:].reshape((4*32,1)), neuron_index[:,[0,1,n_col-2,n_col-1]].reshape((4*32,1))))\n",
    "        neuron_edge_index = neuron_edge_index.reshape((256,1))\n",
    "        \n",
    "\n",
    "        ## re-label the neurons at the edge with a different color\n",
    "        neuron_labels = []\n",
    "        for i in range(10):    \n",
    "            neuron_labels = np.hstack((neuron_labels, [i] * n_neurons))\n",
    "            neuron_labels = np.array(neuron_labels)\n",
    "            neuron_labels[n_neurons * i + neuron_edge_index-1] = 15\n",
    "        \n",
    "        neuron_output = neuron_output.reshape((n_images, n_neurons, n_feature_maps))\n",
    "        \n",
    "        ## transpose to organize by feature maps\n",
    "        ## neuron_output_by_fm is (n_images, n_feature_maps, #neurons)\n",
    "        neuron_output_by_fm = np.transpose(neuron_output, (0, 2, 1)) \n",
    "        \n",
    "        ## compute avg neuron firing rate in each feature map\n",
    "        ## fm_avg is (n_images, n_feature_maps)\n",
    "        fm_avg = neuron_output_by_fm.sum(axis=2) / neuron_output_by_fm.shape[2]\n",
    "        \n",
    "        if layer_index == 1:\n",
    "            fm_avg_all_layers = fm_avg\n",
    "            neuron_output_by_fm_all_layers = neuron_output_by_fm\n",
    "        else:\n",
    "            fm_avg_all_layers = np.hstack((fm_avg_all_layers, fm_avg))\n",
    "            neuron_output_by_fm_all_layers = np.concatenate((neuron_output_by_fm_all_layers,neuron_output_by_fm), axis = 1)\n",
    "\n",
    "    neuron_output_highest = np.empty((n_images,n_neurons *10))\n",
    "    for i in range(n_images):\n",
    "        max10_indices = np.argpartition(fm_avg_all_layers[i], -10, axis = 0)[-10:]\n",
    "        neuron_output_highest[i] = neuron_output_by_fm_all_layers[i, max10_indices, :].reshape((1,n_neurons *10))\n",
    "\n",
    "        \n",
    "    neuron_labels = np.array(neuron_labels)     \n",
    "    return neuron_output_highest, fm_avg_all_layers, neuron_labels "
   ]
  },
  {
   "cell_type": "code",
   "execution_count": 50,
   "metadata": {
    "ExecuteTime": {
     "end_time": "2021-12-06T11:29:15.083003Z",
     "start_time": "2021-12-06T11:29:15.063066Z"
    }
   },
   "outputs": [],
   "source": [
    "def show_stimuli(layer_indices, n_images_per_class, image_classes, shifts, plot_activity = False):\n",
    "    '''\n",
    "    arg(s): \n",
    "        layer_indices\n",
    "        n_images_per_class\n",
    "        image_classes\n",
    "        shifts = True/False\n",
    "    return:\n",
    "        neuron_output_shifts_avg, (n_images, n_neurons)\n",
    "    '''\n",
    "    # select images from specified classes:\n",
    "    \n",
    "    n_classes = len(image_classes)\n",
    "    n_images = n_classes * n_images_per_class\n",
    "    \n",
    "    for i in range(n_classes):\n",
    "        idx = (y_train == image_classes[i]).reshape(x_train.shape[0])\n",
    "        images = x_train[idx]\n",
    "        ## images has shape (5000, 32, 32, 3), take the first n_images_per_class images from each selected class:\n",
    "        images = images[0:n_images_per_class,:,:,:]\n",
    "        if i == 0:\n",
    "            images_selected_classes = images\n",
    "        else:\n",
    "            images_selected_classes = np.vstack((images_selected_classes, images))\n",
    "    \n",
    "    images_selected_classes = np.array(images_selected_classes)\n",
    "    \n",
    "    if shifts is False:\n",
    "        neuron_output_highest, fm_avg_all_layers, neuron_labels = compute_neuron_output_alt(layer_indices, images_selected_classes, plot_activity = plot_activity)\n",
    "    \n",
    "    else:\n",
    "        # generate shifts for each selected image: \n",
    "        neuron_output_highest_with_shifts = []\n",
    "        fm_avg_all_layers_with_shifts = []\n",
    "        for i in range(n_images):\n",
    "            im = images_selected_classes[i]\n",
    "            im_all_shifts, n_shifts =  apply_all_shifts(im, 1)\n",
    "\n",
    "            neuron_output_highest, fm_avg_all_layers, neuron_labels = compute_neuron_output_alt(layer_indices, im_all_shifts, plot_activity = False)\n",
    "            ## neuron_output_highest is of shape (number of shifts, neurons)\n",
    "\n",
    "            ## take the average over all shifts of im\n",
    "            shifts_avg = neuron_output_highest.sum(axis=0) / neuron_output_highest.shape[0]\n",
    "            shifts_avg = shifts_avg.reshape((1,shifts_avg.shape[0]))\n",
    "            \n",
    "            fm_shifts_avg = fm_avg_all_layers.sum(axis=0) / fm_avg_all_layers.shape[0]\n",
    "            fm_shifts_avg = fm_shifts_avg.reshape((1,fm_shifts_avg.shape[0]))\n",
    "            \n",
    "            if i == 0:\n",
    "                neuron_output_highest_with_shifts = shifts_avg \n",
    "                fm_avg_all_layers_with_shifts = fm_shifts_avg\n",
    "            else:\n",
    "                neuron_output_highest_with_shifts = np.vstack((neuron_output_highest_with_shifts, shifts_avg))\n",
    "                fm_avg_all_layers_with_shifts = np.vstack((fm_avg_all_layers_with_shifts, fm_shifts_avg))\n",
    "                \n",
    "        neuron_output_highest = neuron_output_highest_with_shifts\n",
    "        fm_avg_all_layers = fm_avg_all_layers_with_shifts\n",
    " \n",
    "    return neuron_output_highest, fm_avg_all_layers, neuron_labels"
   ]
  },
  {
   "cell_type": "code",
   "execution_count": 51,
   "metadata": {
    "ExecuteTime": {
     "end_time": "2021-12-06T11:29:15.382460Z",
     "start_time": "2021-12-06T11:29:15.363449Z"
    }
   },
   "outputs": [],
   "source": [
    "def generate_embedding():\n",
    "    neuron_output_highest_with_shifts, fm_avg_all_layers_with_shifts, neuron_labels= show_stimuli(layer_indices = [0,1], n_images_per_class = 10, image_classes = [3,1,0,5], shifts = True)\n",
    "    from sklearn.decomposition import PCA\n",
    "    pca = PCA(10)\n",
    "    neuron_output_highest_with_shifts_projected = pca.fit_transform(neuron_output_highest_with_shifts.T)\n",
    "    neuron_output_highest_with_shifts_projected.shape\n",
    "    import plotly.graph_objects as go\n",
    "    import plotly.express as px\n",
    "\n",
    "    fig = go.Figure()\n",
    "    traces = []\n",
    "    colors_palette = px.colors.qualitative.Dark24\n",
    "    data = neuron_output_highest_with_shifts_projected\n",
    "\n",
    "    for i, label in enumerate(set(neuron_labels)):\n",
    "        mask = (neuron_labels == label)\n",
    "        print(label, sum(mask))\n",
    "        traces.append(go.Scatter3d(\n",
    "            x=data[mask,0],\n",
    "            y=data[mask,1],\n",
    "            z=data[mask,2],\n",
    "            mode='markers',\n",
    "            marker=dict(\n",
    "                size=4,\n",
    "                color=colors_palette[int(label)],\n",
    "                opacity=1,\n",
    "\n",
    "                #showscale= True,\n",
    "            )))\n",
    "\n",
    "    for trace in traces:\n",
    "        fig.add_trace(trace)\n",
    "\n",
    "    fig.update_layout(margin=dict(l=0, r=0, b=0, t=0),showlegend=True,)\n",
    "    fig.show()"
   ]
  },
  {
   "cell_type": "markdown",
   "metadata": {},
   "source": [
    "# Training AlexNet:"
   ]
  },
  {
   "cell_type": "code",
   "execution_count": 1,
   "metadata": {
    "ExecuteTime": {
     "end_time": "2021-12-17T11:12:20.469278Z",
     "start_time": "2021-12-17T11:12:08.618905Z"
    }
   },
   "outputs": [
    {
     "name": "stderr",
     "output_type": "stream",
     "text": [
      "C:\\Users\\ifisa\\anaconda3\\lib\\site-packages\\torchvision\\io\\image.py:11: UserWarning: Failed to load image Python extension: [WinError 127] The specified procedure could not be found\n",
      "  warn(f\"Failed to load image Python extension: {e}\")\n"
     ]
    }
   ],
   "source": [
    "import torch\n",
    "import torchvision\n",
    "import torchvision.transforms as transforms"
   ]
  },
  {
   "cell_type": "code",
   "execution_count": 2,
   "metadata": {
    "ExecuteTime": {
     "end_time": "2021-12-17T11:12:46.530722Z",
     "start_time": "2021-12-17T11:12:46.506901Z"
    }
   },
   "outputs": [
    {
     "name": "stdout",
     "output_type": "stream",
     "text": [
      "1.8.0+cpu\n"
     ]
    }
   ],
   "source": [
    "print(torch.__version__)"
   ]
  },
  {
   "cell_type": "code",
   "execution_count": 3,
   "metadata": {
    "ExecuteTime": {
     "end_time": "2021-12-17T11:13:02.464900Z",
     "start_time": "2021-12-17T11:13:02.451575Z"
    }
   },
   "outputs": [
    {
     "name": "stdout",
     "output_type": "stream",
     "text": [
      "0.11.2+cpu\n"
     ]
    }
   ],
   "source": [
    "print(torchvision.__version__)"
   ]
  },
  {
   "cell_type": "code",
   "execution_count": 4,
   "metadata": {
    "ExecuteTime": {
     "end_time": "2021-12-17T11:13:06.944320Z",
     "start_time": "2021-12-17T11:13:06.921491Z"
    }
   },
   "outputs": [],
   "source": [
    "transform = transforms.Compose([\n",
    "    transforms.Resize(256),\n",
    "    transforms.CenterCrop(224),\n",
    "    transforms.ToTensor(),\n",
    "    transforms.Normalize(mean=[0.485, 0.456, 0.406], std=[0.229, 0.224, 0.225]),\n",
    "])"
   ]
  },
  {
   "cell_type": "code",
   "execution_count": 5,
   "metadata": {
    "ExecuteTime": {
     "end_time": "2021-12-17T11:13:10.716523Z",
     "start_time": "2021-12-17T11:13:07.807152Z"
    }
   },
   "outputs": [
    {
     "name": "stdout",
     "output_type": "stream",
     "text": [
      "Files already downloaded and verified\n",
      "Files already downloaded and verified\n"
     ]
    }
   ],
   "source": [
    "train_data = torchvision.datasets.CIFAR10(root='./data', train=True, download=True, transform=transform)\n",
    "trainloader = torch.utils.data.DataLoader(train_data, batch_size=4, shuffle=True, num_workers=2)\n",
    "\n",
    "test_data = torchvision.datasets.CIFAR10(root='./data', train=False, download=True, transform=transform)\n",
    "testloader = torch.utils.data.DataLoader(test_data, batch_size=4, shuffle=False, num_workers=2)\n",
    "\n",
    "classes = ('Airplane', 'Car', 'Bird', 'Cat', 'Deer', 'Dog', 'Frog', 'Horse', 'Ship', 'Truck')"
   ]
  },
  {
   "cell_type": "code",
   "execution_count": 6,
   "metadata": {
    "ExecuteTime": {
     "end_time": "2021-12-17T11:13:12.487600Z",
     "start_time": "2021-12-17T11:13:12.024647Z"
    }
   },
   "outputs": [],
   "source": [
    "import matplotlib.pyplot as plt\n",
    "import numpy as np"
   ]
  },
  {
   "cell_type": "code",
   "execution_count": 7,
   "metadata": {
    "ExecuteTime": {
     "end_time": "2021-12-17T11:13:24.726595Z",
     "start_time": "2021-12-17T11:13:13.867468Z"
    }
   },
   "outputs": [
    {
     "name": "stderr",
     "output_type": "stream",
     "text": [
      "Clipping input data to the valid range for imshow with RGB data ([0..1] for floats or [0..255] for integers).\n"
     ]
    },
    {
     "data": {
      "image/png": "[encoded data removed]",
      "text/plain": [
       "<Figure size 432x288 with 1 Axes>"
      ]
     },
     "metadata": {
      "needs_background": "light"
     },
     "output_type": "display_data"
    },
    {
     "name": "stdout",
     "output_type": "stream",
     "text": [
      "Airplane Truck  Frog  Ship\n"
     ]
    }
   ],
   "source": [
    "def imshow(img):\n",
    "    img = img / 2 + 0.5     # unnormalize\n",
    "    npimg = img.numpy()\n",
    "    plt.imshow(np.transpose(npimg, (1, 2, 0)))\n",
    "    plt.show()\n",
    "\n",
    "\n",
    "# get some random training images\n",
    "dataiter = iter(trainloader)\n",
    "images, labels = dataiter.next()\n",
    "\n",
    "# show images\n",
    "imshow(torchvision.utils.make_grid(images))\n",
    "# print labels\n",
    "print(' '.join('%5s' % classes[labels[j]] for j in range(4)))"
   ]
  },
  {
   "cell_type": "code",
   "execution_count": 8,
   "metadata": {
    "ExecuteTime": {
     "end_time": "2021-12-17T11:14:18.358450Z",
     "start_time": "2021-12-17T11:13:29.037902Z"
    }
   },
   "outputs": [
    {
     "name": "stderr",
     "output_type": "stream",
     "text": [
      "Downloading: \"https://github.com/pytorch/vision/archive/v0.6.0.zip\" to C:\\Users\\ifisa/.cache\\torch\\hub\\v0.6.0.zip\n",
      "Downloading: \"https://download.pytorch.org/models/alexnet-owt-7be5be79.pth\" to C:\\Users\\ifisa/.cache\\torch\\hub\\checkpoints\\alexnet-owt-7be5be79.pth\n"
     ]
    },
    {
     "data": {
      "application/vnd.jupyter.widget-view+json": {
       "model_id": "9f750435cef748bfb40e9cbc7b22631e",
       "version_major": 2,
       "version_minor": 0
      },
      "text/plain": [
       "HBox(children=(HTML(value=''), FloatProgress(value=0.0, max=244408911.0), HTML(value='')))"
      ]
     },
     "metadata": {},
     "output_type": "display_data"
    },
    {
     "name": "stdout",
     "output_type": "stream",
     "text": [
      "\n"
     ]
    }
   ],
   "source": [
    "AlexNet_Model = torch.hub.load('pytorch/vision:v0.6.0', 'alexnet', pretrained=True)"
   ]
  },
  {
   "cell_type": "code",
   "execution_count": 9,
   "metadata": {
    "ExecuteTime": {
     "end_time": "2021-12-17T11:53:48.331159Z",
     "start_time": "2021-12-17T11:53:48.323184Z"
    }
   },
   "outputs": [
    {
     "data": {
      "text/plain": [
       "AlexNet(\n",
       "  (features): Sequential(\n",
       "    (0): Conv2d(3, 64, kernel_size=(11, 11), stride=(4, 4), padding=(2, 2))\n",
       "    (1): ReLU(inplace=True)\n",
       "    (2): MaxPool2d(kernel_size=3, stride=2, padding=0, dilation=1, ceil_mode=False)\n",
       "    (3): Conv2d(64, 192, kernel_size=(5, 5), stride=(1, 1), padding=(2, 2))\n",
       "    (4): ReLU(inplace=True)\n",
       "    (5): MaxPool2d(kernel_size=3, stride=2, padding=0, dilation=1, ceil_mode=False)\n",
       "    (6): Conv2d(192, 384, kernel_size=(3, 3), stride=(1, 1), padding=(1, 1))\n",
       "    (7): ReLU(inplace=True)\n",
       "    (8): Conv2d(384, 256, kernel_size=(3, 3), stride=(1, 1), padding=(1, 1))\n",
       "    (9): ReLU(inplace=True)\n",
       "    (10): Conv2d(256, 256, kernel_size=(3, 3), stride=(1, 1), padding=(1, 1))\n",
       "    (11): ReLU(inplace=True)\n",
       "    (12): MaxPool2d(kernel_size=3, stride=2, padding=0, dilation=1, ceil_mode=False)\n",
       "  )\n",
       "  (avgpool): AdaptiveAvgPool2d(output_size=(6, 6))\n",
       "  (classifier): Sequential(\n",
       "    (0): Dropout(p=0.5, inplace=False)\n",
       "    (1): Linear(in_features=9216, out_features=4096, bias=True)\n",
       "    (2): ReLU(inplace=True)\n",
       "    (3): Dropout(p=0.5, inplace=False)\n",
       "    (4): Linear(in_features=4096, out_features=4096, bias=True)\n",
       "    (5): ReLU(inplace=True)\n",
       "    (6): Linear(in_features=4096, out_features=1000, bias=True)\n",
       "  )\n",
       ")"
      ]
     },
     "execution_count": 9,
     "metadata": {},
     "output_type": "execute_result"
    }
   ],
   "source": [
    "AlexNet_Model.eval()"
   ]
  },
  {
   "cell_type": "code",
   "execution_count": 10,
   "metadata": {
    "ExecuteTime": {
     "end_time": "2021-12-17T12:07:11.085776Z",
     "start_time": "2021-12-17T12:07:10.887008Z"
    }
   },
   "outputs": [],
   "source": [
    "import torch.nn as nn\n",
    "AlexNet_Model.classifier[1] = nn.Linear(9216,4096)\n",
    "AlexNet_Model.classifier[4] = nn.Linear(4096,1024)\n",
    "AlexNet_Model.classifier[6] = nn.Linear(1024,10)"
   ]
  },
  {
   "cell_type": "code",
   "execution_count": 11,
   "metadata": {
    "ExecuteTime": {
     "end_time": "2021-12-17T12:07:38.833768Z",
     "start_time": "2021-12-17T12:07:38.819724Z"
    }
   },
   "outputs": [
    {
     "data": {
      "text/plain": [
       "AlexNet(\n",
       "  (features): Sequential(\n",
       "    (0): Conv2d(3, 64, kernel_size=(11, 11), stride=(4, 4), padding=(2, 2))\n",
       "    (1): ReLU(inplace=True)\n",
       "    (2): MaxPool2d(kernel_size=3, stride=2, padding=0, dilation=1, ceil_mode=False)\n",
       "    (3): Conv2d(64, 192, kernel_size=(5, 5), stride=(1, 1), padding=(2, 2))\n",
       "    (4): ReLU(inplace=True)\n",
       "    (5): MaxPool2d(kernel_size=3, stride=2, padding=0, dilation=1, ceil_mode=False)\n",
       "    (6): Conv2d(192, 384, kernel_size=(3, 3), stride=(1, 1), padding=(1, 1))\n",
       "    (7): ReLU(inplace=True)\n",
       "    (8): Conv2d(384, 256, kernel_size=(3, 3), stride=(1, 1), padding=(1, 1))\n",
       "    (9): ReLU(inplace=True)\n",
       "    (10): Conv2d(256, 256, kernel_size=(3, 3), stride=(1, 1), padding=(1, 1))\n",
       "    (11): ReLU(inplace=True)\n",
       "    (12): MaxPool2d(kernel_size=3, stride=2, padding=0, dilation=1, ceil_mode=False)\n",
       "  )\n",
       "  (avgpool): AdaptiveAvgPool2d(output_size=(6, 6))\n",
       "  (classifier): Sequential(\n",
       "    (0): Dropout(p=0.5, inplace=False)\n",
       "    (1): Linear(in_features=9216, out_features=4096, bias=True)\n",
       "    (2): ReLU(inplace=True)\n",
       "    (3): Dropout(p=0.5, inplace=False)\n",
       "    (4): Linear(in_features=4096, out_features=1024, bias=True)\n",
       "    (5): ReLU(inplace=True)\n",
       "    (6): Linear(in_features=1024, out_features=10, bias=True)\n",
       "  )\n",
       ")"
      ]
     },
     "execution_count": 11,
     "metadata": {},
     "output_type": "execute_result"
    }
   ],
   "source": [
    "AlexNet_Model.eval()"
   ]
  },
  {
   "cell_type": "code",
   "execution_count": 16,
   "metadata": {
    "ExecuteTime": {
     "end_time": "2021-12-17T12:08:45.317049Z",
     "start_time": "2021-12-17T12:08:45.306998Z"
    }
   },
   "outputs": [],
   "source": [
    "import torch.optim as optim\n",
    "\n",
    "criterion = nn.CrossEntropyLoss()\n",
    "optimizer = optim.SGD(AlexNet_Model.parameters(), lr=0.001, momentum=0.9)"
   ]
  },
  {
   "cell_type": "code",
   "execution_count": 17,
   "metadata": {
    "ExecuteTime": {
     "end_time": "2021-12-17T12:08:52.846528Z",
     "start_time": "2021-12-17T12:08:52.832347Z"
    }
   },
   "outputs": [],
   "source": [
    "import time"
   ]
  },
  {
   "cell_type": "code",
   "execution_count": null,
   "metadata": {
    "ExecuteTime": {
     "start_time": "2021-12-17T12:09:18.689Z"
    }
   },
   "outputs": [
    {
     "name": "stdout",
     "output_type": "stream",
     "text": [
      "[1,  2000] loss: 1.216\n",
      "Time: 414.68788957595825\n",
      "[1,  4000] loss: 0.896\n",
      "Time: 839.5067777633667\n"
     ]
    }
   ],
   "source": [
    "for epoch in range(1):  # loop over the dataset multiple times\n",
    "\n",
    "    running_loss = 0.0\n",
    "    start_time = time.time()\n",
    "    for i, data in enumerate(trainloader, 0):\n",
    "        # get the inputs; data is a list of [inputs, labels]\n",
    "        inputs, labels = data[0].to(device), data[1].to(device)\n",
    "\n",
    "        # zero the parameter gradients\n",
    "        optimizer.zero_grad()\n",
    "\n",
    "        # forward + backward + optimize\n",
    "        output = AlexNet_Model(inputs)\n",
    "        loss = criterion(output, labels)\n",
    "        loss.backward()\n",
    "        optimizer.step()\n",
    "\n",
    "        #Time\n",
    "        end_time = time.time()\n",
    "        time_taken = end_time - start_time\n",
    "\n",
    "        # print statistics\n",
    "        running_loss += loss.item()\n",
    "        if i % 2000 == 1999:    # print every 2000 mini-batches\n",
    "            print('[%d, %5d] loss: %.3f' % (epoch + 1, i + 1, running_loss / 2000))\n",
    "            print('Time:',time_taken)\n",
    "            running_loss = 0.0\n",
    "\n",
    "print('Finished Training of AlexNet: Epoch 1')"
   ]
  },
  {
   "cell_type": "code",
   "execution_count": 52,
   "metadata": {
    "ExecuteTime": {
     "end_time": "2021-12-06T11:29:16.256570Z",
     "start_time": "2021-12-06T11:29:16.223118Z"
    }
   },
   "outputs": [
    {
     "name": "stdout",
     "output_type": "stream",
     "text": [
      "3670\n",
      "['daisy' 'dandelion' 'roses' 'sunflowers' 'tulips']\n",
      "5\n"
     ]
    }
   ],
   "source": [
    "# Raw Dataset Directory\n",
    "data_dir = pathlib.Path(\"C://Users//ifisa//Documents//capstone-liu-2022//artificial-tensor/flower_photos\")\n",
    "image_count = len(list(data_dir.glob('*/*.jpg')))\n",
    "print(image_count)\n",
    "# classnames in the dataset specified\n",
    "CLASS_NAMES = np.array([item.name for item in data_dir.glob('*') if item.name != \"LICENSE.txt\" ])\n",
    "print(CLASS_NAMES)\n",
    "# print length of class names\n",
    "output_class_units = len(CLASS_NAMES)\n",
    "print(output_class_units)"
   ]
  },
  {
   "cell_type": "code",
   "execution_count": 53,
   "metadata": {
    "ExecuteTime": {
     "end_time": "2021-12-06T11:29:17.318911Z",
     "start_time": "2021-12-06T11:29:16.602751Z"
    }
   },
   "outputs": [],
   "source": [
    "model = tf.keras.models.Sequential([\n",
    "    # 1st conv\n",
    "  tf.keras.layers.Conv2D(96, (11,11),strides=(4,4), activation='relu', input_shape=(227, 227, 3)),\n",
    "  tf.keras.layers.BatchNormalization(),\n",
    "  tf.keras.layers.MaxPooling2D(2, strides=(2,2)),\n",
    "    # 2nd conv\n",
    "  tf.keras.layers.Conv2D(256, (11,11),strides=(1,1), activation='relu',padding=\"same\"),\n",
    "  tf.keras.layers.BatchNormalization(),\n",
    "     # 3rd conv\n",
    "  tf.keras.layers.Conv2D(384, (3,3),strides=(1,1), activation='relu',padding=\"same\"),\n",
    "  tf.keras.layers.BatchNormalization(),\n",
    "    # 4th conv\n",
    "  tf.keras.layers.Conv2D(384, (3,3),strides=(1,1), activation='relu',padding=\"same\"),\n",
    "  tf.keras.layers.BatchNormalization(),\n",
    "    # 5th Conv\n",
    "  tf.keras.layers.Conv2D(256, (3, 3), strides=(1, 1), activation='relu',padding=\"same\"),\n",
    "  tf.keras.layers.BatchNormalization(),\n",
    "  tf.keras.layers.MaxPooling2D(2, strides=(2, 2)),\n",
    "  # To Flatten layer\n",
    "  tf.keras.layers.Flatten(),\n",
    "  # To FC layer 1\n",
    "  tf.keras.layers.Dense(4096, activation='relu'),\n",
    "    # add dropout 0.5 ==> tf.keras.layers.Dropout(0.5),\n",
    "  #To FC layer 2\n",
    "  tf.keras.layers.Dense(4096, activation='relu'),\n",
    "    # add dropout 0.5 ==> tf.keras.layers.Dropout(0.5),\n",
    "  tf.keras.layers.Dense(output_class_units, activation='softmax')\n",
    "])"
   ]
  },
  {
   "cell_type": "code",
   "execution_count": 70,
   "metadata": {
    "ExecuteTime": {
     "end_time": "2021-12-06T12:02:51.285364Z",
     "start_time": "2021-12-06T12:02:51.142621Z"
    }
   },
   "outputs": [
    {
     "name": "stdout",
     "output_type": "stream",
     "text": [
      "Found 3670 images belonging to 5 classes.\n"
     ]
    }
   ],
   "source": [
    "# Shape of inputs to NN Model\n",
    "BATCH_SIZE = 32             # Can be of size 2^n, but not restricted to. for the better utilization of memory\n",
    "IMG_HEIGHT = 227            # input Shape required by the model\n",
    "IMG_WIDTH = 227             # input Shape required by the model\n",
    "STEPS_PER_EPOCH = np.ceil(image_count/BATCH_SIZE)\n",
    "\n",
    "# Rescalingthe pixel values from 0~255 to 0~1 For RGB Channels of the image.\n",
    "image_generator = tf.keras.preprocessing.image.ImageDataGenerator(rescale=1./255)\n",
    "# training_data for model training\n",
    "train_data_gen = image_generator.flow_from_directory(directory=str(data_dir),\n",
    "                                                     batch_size=BATCH_SIZE,\n",
    "                                                     shuffle=True,\n",
    "                                                     target_size=(IMG_HEIGHT, IMG_WIDTH), #Resizing the raw dataset\n",
    "                                                     classes = list(CLASS_NAMES))"
   ]
  },
  {
   "cell_type": "code",
   "execution_count": 76,
   "metadata": {
    "ExecuteTime": {
     "end_time": "2021-12-06T12:04:22.722561Z",
     "start_time": "2021-12-06T12:04:22.707601Z"
    }
   },
   "outputs": [
    {
     "data": {
      "text/plain": [
       "(3670,)"
      ]
     },
     "execution_count": 76,
     "metadata": {},
     "output_type": "execute_result"
    }
   ],
   "source": [
    "train_data_gen.labels.shape"
   ]
  },
  {
   "cell_type": "code",
   "execution_count": 55,
   "metadata": {
    "ExecuteTime": {
     "end_time": "2021-12-06T11:29:18.065940Z",
     "start_time": "2021-12-06T11:29:18.052594Z"
    },
    "scrolled": true
   },
   "outputs": [
    {
     "name": "stdout",
     "output_type": "stream",
     "text": [
      "Model: \"sequential_2\"\n",
      "_________________________________________________________________\n",
      "Layer (type)                 Output Shape              Param #   \n",
      "=================================================================\n",
      "conv2d_10 (Conv2D)           (None, 55, 55, 96)        34944     \n",
      "_________________________________________________________________\n",
      "batch_normalization_10 (Batc (None, 55, 55, 96)        384       \n",
      "_________________________________________________________________\n",
      "max_pooling2d_4 (MaxPooling2 (None, 27, 27, 96)        0         \n",
      "_________________________________________________________________\n",
      "conv2d_11 (Conv2D)           (None, 27, 27, 256)       2973952   \n",
      "_________________________________________________________________\n",
      "batch_normalization_11 (Batc (None, 27, 27, 256)       1024      \n",
      "_________________________________________________________________\n",
      "conv2d_12 (Conv2D)           (None, 27, 27, 384)       885120    \n",
      "_________________________________________________________________\n",
      "batch_normalization_12 (Batc (None, 27, 27, 384)       1536      \n",
      "_________________________________________________________________\n",
      "conv2d_13 (Conv2D)           (None, 27, 27, 384)       1327488   \n",
      "_________________________________________________________________\n",
      "batch_normalization_13 (Batc (None, 27, 27, 384)       1536      \n",
      "_________________________________________________________________\n",
      "conv2d_14 (Conv2D)           (None, 27, 27, 256)       884992    \n",
      "_________________________________________________________________\n",
      "batch_normalization_14 (Batc (None, 27, 27, 256)       1024      \n",
      "_________________________________________________________________\n",
      "max_pooling2d_5 (MaxPooling2 (None, 13, 13, 256)       0         \n",
      "_________________________________________________________________\n",
      "flatten_2 (Flatten)          (None, 43264)             0         \n",
      "_________________________________________________________________\n",
      "dense_6 (Dense)              (None, 4096)              177213440 \n",
      "_________________________________________________________________\n",
      "dense_7 (Dense)              (None, 4096)              16781312  \n",
      "_________________________________________________________________\n",
      "dense_8 (Dense)              (None, 5)                 20485     \n",
      "=================================================================\n",
      "Total params: 200,127,237\n",
      "Trainable params: 200,124,485\n",
      "Non-trainable params: 2,752\n",
      "_________________________________________________________________\n"
     ]
    }
   ],
   "source": [
    "# Specifying the optimizer, Loss function for optimization & Metrics to be displayed\n",
    "model.compile(optimizer='sgd', loss=\"categorical_crossentropy\", metrics=['accuracy'])\n",
    "\n",
    "# Summarizing the model architecture and printing it out\n",
    "model.summary()"
   ]
  },
  {
   "cell_type": "code",
   "execution_count": 56,
   "metadata": {
    "ExecuteTime": {
     "end_time": "2021-12-06T11:29:18.699503Z",
     "start_time": "2021-12-06T11:29:18.682573Z"
    }
   },
   "outputs": [],
   "source": [
    "# callbacks at training\n",
    "class myCallback(tf.keras.callbacks.Callback):\n",
    "    def on_epoch_end(self,epoch,logs={}):\n",
    "        if (logs.get(\"accuracy\")==1.00 and logs.get(\"loss\")<0.03):\n",
    "            print(\"\\nReached 100% accuracy so stopping training\")\n",
    "            self.model.stop_training =True\n",
    "callbacks = myCallback()\n",
    "\n",
    "# TensorBoard.dev Visuals\n",
    "log_dir=\"logs\\\\fit\\\\\" + datetime.datetime.now().strftime(\"%Y%m%d-%H%M%S\")\n",
    "tensorboard_callback = tf.keras.callbacks.TensorBoard(log_dir=log_dir, histogram_freq=1)"
   ]
  },
  {
   "cell_type": "code",
   "execution_count": 69,
   "metadata": {
    "ExecuteTime": {
     "end_time": "2021-12-06T11:41:23.570180Z",
     "start_time": "2021-12-06T11:41:23.546243Z"
    }
   },
   "outputs": [
    {
     "ename": "TypeError",
     "evalue": "'>=' not supported between instances of 'tuple' and 'int'",
     "output_type": "error",
     "traceback": [
      "\u001b[1;31m---------------------------------------------------------------------------\u001b[0m",
      "\u001b[1;31mTypeError\u001b[0m                                 Traceback (most recent call last)",
      "\u001b[1;32m<ipython-input-69-151c481df542>\u001b[0m in \u001b[0;36m<module>\u001b[1;34m\u001b[0m\n\u001b[1;32m----> 1\u001b[1;33m \u001b[0mprint\u001b[0m\u001b[1;33m(\u001b[0m\u001b[0mtf\u001b[0m\u001b[1;33m.\u001b[0m\u001b[0mkeras\u001b[0m\u001b[1;33m.\u001b[0m\u001b[0mbackend\u001b[0m\u001b[1;33m.\u001b[0m\u001b[0meval\u001b[0m\u001b[1;33m(\u001b[0m\u001b[0my_train\u001b[0m\u001b[1;33m[\u001b[0m\u001b[1;36m4\u001b[0m\u001b[1;33m,\u001b[0m\u001b[1;36m1\u001b[0m\u001b[1;33m]\u001b[0m\u001b[1;33m)\u001b[0m\u001b[1;33m)\u001b[0m\u001b[1;33m\u001b[0m\u001b[1;33m\u001b[0m\u001b[0m\n\u001b[0m",
      "\u001b[1;32m~\\AppData\\Roaming\\Python\\Python38\\site-packages\\keras_preprocessing\\image\\iterator.py\u001b[0m in \u001b[0;36m__getitem__\u001b[1;34m(self, idx)\u001b[0m\n\u001b[0;32m     51\u001b[0m \u001b[1;33m\u001b[0m\u001b[0m\n\u001b[0;32m     52\u001b[0m     \u001b[1;32mdef\u001b[0m \u001b[0m__getitem__\u001b[0m\u001b[1;33m(\u001b[0m\u001b[0mself\u001b[0m\u001b[1;33m,\u001b[0m \u001b[0midx\u001b[0m\u001b[1;33m)\u001b[0m\u001b[1;33m:\u001b[0m\u001b[1;33m\u001b[0m\u001b[1;33m\u001b[0m\u001b[0m\n\u001b[1;32m---> 53\u001b[1;33m         \u001b[1;32mif\u001b[0m \u001b[0midx\u001b[0m \u001b[1;33m>=\u001b[0m \u001b[0mlen\u001b[0m\u001b[1;33m(\u001b[0m\u001b[0mself\u001b[0m\u001b[1;33m)\u001b[0m\u001b[1;33m:\u001b[0m\u001b[1;33m\u001b[0m\u001b[1;33m\u001b[0m\u001b[0m\n\u001b[0m\u001b[0;32m     54\u001b[0m             raise ValueError('Asked to retrieve element {idx}, '\n\u001b[0;32m     55\u001b[0m                              \u001b[1;34m'but the Sequence '\u001b[0m\u001b[1;33m\u001b[0m\u001b[1;33m\u001b[0m\u001b[0m\n",
      "\u001b[1;31mTypeError\u001b[0m: '>=' not supported between instances of 'tuple' and 'int'"
     ]
    }
   ],
   "source": [
    "print(tf.keras.backend.eval(train_data_gen[4]))"
   ]
  },
  {
   "cell_type": "code",
   "execution_count": 33,
   "metadata": {
    "ExecuteTime": {
     "end_time": "2021-12-06T11:21:25.427336Z",
     "start_time": "2021-12-06T11:21:25.401405Z"
    }
   },
   "outputs": [
    {
     "ename": "AttributeError",
     "evalue": "'bool' object has no attribute 'reshape'",
     "output_type": "error",
     "traceback": [
      "\u001b[1;31m---------------------------------------------------------------------------\u001b[0m",
      "\u001b[1;31mAttributeError\u001b[0m                            Traceback (most recent call last)",
      "\u001b[1;32m<ipython-input-33-be8251537b04>\u001b[0m in \u001b[0;36m<module>\u001b[1;34m\u001b[0m\n\u001b[0;32m      1\u001b[0m \u001b[1;31m## plot embeddings before starting\u001b[0m\u001b[1;33m\u001b[0m\u001b[1;33m\u001b[0m\u001b[1;33m\u001b[0m\u001b[0m\n\u001b[1;32m----> 2\u001b[1;33m \u001b[0mgenerate_embedding\u001b[0m\u001b[1;33m(\u001b[0m\u001b[1;33m)\u001b[0m\u001b[1;33m\u001b[0m\u001b[1;33m\u001b[0m\u001b[0m\n\u001b[0m",
      "\u001b[1;32m<ipython-input-25-aef3feee38dd>\u001b[0m in \u001b[0;36mgenerate_embedding\u001b[1;34m()\u001b[0m\n\u001b[0;32m      1\u001b[0m \u001b[1;32mdef\u001b[0m \u001b[0mgenerate_embedding\u001b[0m\u001b[1;33m(\u001b[0m\u001b[1;33m)\u001b[0m\u001b[1;33m:\u001b[0m\u001b[1;33m\u001b[0m\u001b[1;33m\u001b[0m\u001b[0m\n\u001b[1;32m----> 2\u001b[1;33m     \u001b[0mneuron_output_highest_with_shifts\u001b[0m\u001b[1;33m,\u001b[0m \u001b[0mfm_avg_all_layers_with_shifts\u001b[0m\u001b[1;33m,\u001b[0m \u001b[0mneuron_labels\u001b[0m\u001b[1;33m=\u001b[0m \u001b[0mshow_stimuli\u001b[0m\u001b[1;33m(\u001b[0m\u001b[0mlayer_indices\u001b[0m \u001b[1;33m=\u001b[0m \u001b[1;33m[\u001b[0m\u001b[1;36m0\u001b[0m\u001b[1;33m,\u001b[0m\u001b[1;36m1\u001b[0m\u001b[1;33m]\u001b[0m\u001b[1;33m,\u001b[0m \u001b[0mn_images_per_class\u001b[0m \u001b[1;33m=\u001b[0m \u001b[1;36m10\u001b[0m\u001b[1;33m,\u001b[0m \u001b[0mimage_classes\u001b[0m \u001b[1;33m=\u001b[0m \u001b[1;33m[\u001b[0m\u001b[1;36m3\u001b[0m\u001b[1;33m,\u001b[0m\u001b[1;36m1\u001b[0m\u001b[1;33m,\u001b[0m\u001b[1;36m0\u001b[0m\u001b[1;33m,\u001b[0m\u001b[1;36m5\u001b[0m\u001b[1;33m]\u001b[0m\u001b[1;33m,\u001b[0m \u001b[0mshifts\u001b[0m \u001b[1;33m=\u001b[0m \u001b[1;32mTrue\u001b[0m\u001b[1;33m)\u001b[0m\u001b[1;33m\u001b[0m\u001b[1;33m\u001b[0m\u001b[0m\n\u001b[0m\u001b[0;32m      3\u001b[0m     \u001b[1;32mfrom\u001b[0m \u001b[0msklearn\u001b[0m\u001b[1;33m.\u001b[0m\u001b[0mdecomposition\u001b[0m \u001b[1;32mimport\u001b[0m \u001b[0mPCA\u001b[0m\u001b[1;33m\u001b[0m\u001b[1;33m\u001b[0m\u001b[0m\n\u001b[0;32m      4\u001b[0m     \u001b[0mpca\u001b[0m \u001b[1;33m=\u001b[0m \u001b[0mPCA\u001b[0m\u001b[1;33m(\u001b[0m\u001b[1;36m10\u001b[0m\u001b[1;33m)\u001b[0m\u001b[1;33m\u001b[0m\u001b[1;33m\u001b[0m\u001b[0m\n\u001b[0;32m      5\u001b[0m     \u001b[0mneuron_output_highest_with_shifts_projected\u001b[0m \u001b[1;33m=\u001b[0m \u001b[0mpca\u001b[0m\u001b[1;33m.\u001b[0m\u001b[0mfit_transform\u001b[0m\u001b[1;33m(\u001b[0m\u001b[0mneuron_output_highest_with_shifts\u001b[0m\u001b[1;33m.\u001b[0m\u001b[0mT\u001b[0m\u001b[1;33m)\u001b[0m\u001b[1;33m\u001b[0m\u001b[1;33m\u001b[0m\u001b[0m\n",
      "\u001b[1;32m<ipython-input-23-a840497cf2be>\u001b[0m in \u001b[0;36mshow_stimuli\u001b[1;34m(layer_indices, n_images_per_class, image_classes, shifts, plot_activity)\u001b[0m\n\u001b[0;32m     15\u001b[0m \u001b[1;33m\u001b[0m\u001b[0m\n\u001b[0;32m     16\u001b[0m     \u001b[1;32mfor\u001b[0m \u001b[0mi\u001b[0m \u001b[1;32min\u001b[0m \u001b[0mrange\u001b[0m\u001b[1;33m(\u001b[0m\u001b[0mn_classes\u001b[0m\u001b[1;33m)\u001b[0m\u001b[1;33m:\u001b[0m\u001b[1;33m\u001b[0m\u001b[1;33m\u001b[0m\u001b[0m\n\u001b[1;32m---> 17\u001b[1;33m         \u001b[0midx\u001b[0m \u001b[1;33m=\u001b[0m \u001b[1;33m(\u001b[0m\u001b[0my_train\u001b[0m \u001b[1;33m==\u001b[0m \u001b[0mimage_classes\u001b[0m\u001b[1;33m[\u001b[0m\u001b[0mi\u001b[0m\u001b[1;33m]\u001b[0m\u001b[1;33m)\u001b[0m\u001b[1;33m.\u001b[0m\u001b[0mreshape\u001b[0m\u001b[1;33m(\u001b[0m\u001b[0mx_train\u001b[0m\u001b[1;33m.\u001b[0m\u001b[0mshape\u001b[0m\u001b[1;33m[\u001b[0m\u001b[1;36m0\u001b[0m\u001b[1;33m]\u001b[0m\u001b[1;33m)\u001b[0m\u001b[1;33m\u001b[0m\u001b[1;33m\u001b[0m\u001b[0m\n\u001b[0m\u001b[0;32m     18\u001b[0m         \u001b[0mimages\u001b[0m \u001b[1;33m=\u001b[0m \u001b[0mx_train\u001b[0m\u001b[1;33m[\u001b[0m\u001b[0midx\u001b[0m\u001b[1;33m]\u001b[0m\u001b[1;33m\u001b[0m\u001b[1;33m\u001b[0m\u001b[0m\n\u001b[0;32m     19\u001b[0m         \u001b[1;31m## images has shape (5000, 32, 32, 3), take the first n_images_per_class images from each selected class:\u001b[0m\u001b[1;33m\u001b[0m\u001b[1;33m\u001b[0m\u001b[1;33m\u001b[0m\u001b[0m\n",
      "\u001b[1;31mAttributeError\u001b[0m: 'bool' object has no attribute 'reshape'"
     ]
    }
   ],
   "source": [
    "## plot embeddings before starting\n",
    "generate_embedding()"
   ]
  },
  {
   "cell_type": "code",
   "execution_count": null,
   "metadata": {},
   "outputs": [],
   "source": [
    "# Training the Model\n",
    "history = model.fit(\n",
    "      train_data_gen,\n",
    "      steps_per_epoch=STEPS_PER_EPOCH,\n",
    "      epochs=1,\n",
    "      callbacks=[tensorboard_callback,callbacks])\n",
    "\n",
    "# Saving the model\n",
    "model.save('AlexNet_saved_model/')"
   ]
  },
  {
   "cell_type": "code",
   "execution_count": null,
   "metadata": {},
   "outputs": [],
   "source": [
    "## plot embeddings after 1 epoch"
   ]
  },
  {
   "cell_type": "code",
   "execution_count": null,
   "metadata": {},
   "outputs": [],
   "source": [
    "# Training the Model\n",
    "history = model.fit(\n",
    "      y_train,\n",
    "      steps_per_epoch=STEPS_PER_EPOCH,\n",
    "      epochs=1,\n",
    "      callbacks=[tensorboard_callback,callbacks])\n",
    "\n",
    "# Saving the model\n",
    "model.save('AlexNet_saved_model/')"
   ]
  },
  {
   "cell_type": "code",
   "execution_count": null,
   "metadata": {},
   "outputs": [],
   "source": [
    "## plot embeddings after 2 epochs"
   ]
  }
 ],
 "metadata": {
  "kernelspec": {
   "display_name": "Python 3",
   "language": "python",
   "name": "python3"
  },
  "language_info": {
   "codemirror_mode": {
    "name": "ipython",
    "version": 3
   },
   "file_extension": ".py",
   "mimetype": "text/x-python",
   "name": "python",
   "nbconvert_exporter": "python",
   "pygments_lexer": "ipython3",
   "version": "3.8.5"
  },
  "toc": {
   "base_numbering": 1,
   "nav_menu": {},
   "number_sections": true,
   "sideBar": true,
   "skip_h1_title": false,
   "title_cell": "Table of Contents",
   "title_sidebar": "Contents",
   "toc_cell": false,
   "toc_position": {},
   "toc_section_display": true,
   "toc_window_display": false
  },
  "varInspector": {
   "cols": {
    "lenName": 16,
    "lenType": 16,
    "lenVar": 40
   },
   "kernels_config": {
    "python": {
     "delete_cmd_postfix": "",
     "delete_cmd_prefix": "del ",
     "library": "var_list.py",
     "varRefreshCmd": "print(var_dic_list())"
    },
    "r": {
     "delete_cmd_postfix": ") ",
     "delete_cmd_prefix": "rm(",
     "library": "var_list.r",
     "varRefreshCmd": "cat(var_dic_list()) "
    }
   },
   "types_to_exclude": [
    "module",
    "function",
    "builtin_function_or_method",
    "instance",
    "_Feature"
   ],
   "window_display": true
  }
 },
 "nbformat": 4,
 "nbformat_minor": 4
}
