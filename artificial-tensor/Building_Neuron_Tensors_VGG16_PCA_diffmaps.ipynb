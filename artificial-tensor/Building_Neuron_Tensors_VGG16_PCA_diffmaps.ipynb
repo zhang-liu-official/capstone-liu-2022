{
 "cells": [
  {
   "cell_type": "markdown",
   "metadata": {},
   "source": [
    "# Building Neuron Tensors\n",
    "Resources that have been useful:\n",
    "* [key resource] Stanford tutorial: https://cs231n.github.io/convolutional-networks/\n",
    "* [key resource] Stackexchange that makes all this clear with a simple example: https://stackoverflow.com/questions/52272592/how-many-neurons-does-the-cnn-input-layer-have\n",
    "----\n",
    "* https://adeshpande3.github.io/A-Beginner%27s-Guide-To-Understanding-Convolutional-Neural-Networks/\n",
    "* https://adeshpande3.github.io/A-Beginner%27s-Guide-To-Understanding-Convolutional-Neural-Networks-Part-2/\n",
    "* https://stanford.edu/~shervine/teaching/cs-230/cheatsheet-convolutional-neural-networks\n",
    "* https://hackernoon.com/learning-keras-by-implementing-vgg16-from-scratch-d036733f2d5"
   ]
  },
  {
   "cell_type": "code",
   "execution_count": 1,
   "metadata": {
    "id": "J4NbX6iOTrHp"
   },
   "outputs": [],
   "source": [
    "import tensorflow as tf\n",
    "import numpy as np\n",
    "import matplotlib.pyplot as plt\n",
    "from tensorflow.python.keras.layers import InputLayer, Input\n",
    "from keras.models import Model\n",
    "from keras.layers import Dense\n",
    "from keras.layers import Flatten\n",
    "from tensorflow.python.keras import backend as K"
   ]
  },
  {
   "cell_type": "markdown",
   "metadata": {
    "id": "KDrisMVFUGdy"
   },
   "source": [
    "* load a pre-trained network (VGG16)\n",
    "* input images from CIFAR-10 to VGG16\n",
    "* choose some random unit in one of the layers and plot its activity for different images"
   ]
  },
  {
   "cell_type": "markdown",
   "metadata": {
    "id": "nr9Tt4WSVCLu"
   },
   "source": [
    "## Load VGG16 model"
   ]
  },
  {
   "cell_type": "code",
   "execution_count": 2,
   "metadata": {
    "colab": {
     "base_uri": "https://localhost:8080/"
    },
    "id": "8JOYOjv_TfT9",
    "outputId": "c5f0901a-256e-4ee6-e540-68bcbc366e1c",
    "scrolled": true
   },
   "outputs": [
    {
     "name": "stdout",
     "output_type": "stream",
     "text": [
      "Model: \"vgg16\"\n",
      "_________________________________________________________________\n",
      "Layer (type)                 Output Shape              Param #   \n",
      "=================================================================\n",
      "input_1 (InputLayer)         [(None, 32, 32, 3)]       0         \n",
      "_________________________________________________________________\n",
      "block1_conv1 (Conv2D)        (None, 32, 32, 64)        1792      \n",
      "_________________________________________________________________\n",
      "block1_conv2 (Conv2D)        (None, 32, 32, 64)        36928     \n",
      "_________________________________________________________________\n",
      "block1_pool (MaxPooling2D)   (None, 16, 16, 64)        0         \n",
      "_________________________________________________________________\n",
      "block2_conv1 (Conv2D)        (None, 16, 16, 128)       73856     \n",
      "_________________________________________________________________\n",
      "block2_conv2 (Conv2D)        (None, 16, 16, 128)       147584    \n",
      "_________________________________________________________________\n",
      "block2_pool (MaxPooling2D)   (None, 8, 8, 128)         0         \n",
      "_________________________________________________________________\n",
      "block3_conv1 (Conv2D)        (None, 8, 8, 256)         295168    \n",
      "_________________________________________________________________\n",
      "block3_conv2 (Conv2D)        (None, 8, 8, 256)         590080    \n",
      "_________________________________________________________________\n",
      "block3_conv3 (Conv2D)        (None, 8, 8, 256)         590080    \n",
      "_________________________________________________________________\n",
      "block3_pool (MaxPooling2D)   (None, 4, 4, 256)         0         \n",
      "_________________________________________________________________\n",
      "block4_conv1 (Conv2D)        (None, 4, 4, 512)         1180160   \n",
      "_________________________________________________________________\n",
      "block4_conv2 (Conv2D)        (None, 4, 4, 512)         2359808   \n",
      "_________________________________________________________________\n",
      "block4_conv3 (Conv2D)        (None, 4, 4, 512)         2359808   \n",
      "_________________________________________________________________\n",
      "block4_pool (MaxPooling2D)   (None, 2, 2, 512)         0         \n",
      "_________________________________________________________________\n",
      "block5_conv1 (Conv2D)        (None, 2, 2, 512)         2359808   \n",
      "_________________________________________________________________\n",
      "block5_conv2 (Conv2D)        (None, 2, 2, 512)         2359808   \n",
      "_________________________________________________________________\n",
      "block5_conv3 (Conv2D)        (None, 2, 2, 512)         2359808   \n",
      "_________________________________________________________________\n",
      "block5_pool (MaxPooling2D)   (None, 1, 1, 512)         0         \n",
      "=================================================================\n",
      "Total params: 14,714,688\n",
      "Trainable params: 14,714,688\n",
      "Non-trainable params: 0\n",
      "_________________________________________________________________\n"
     ]
    }
   ],
   "source": [
    "from keras.applications.vgg16 import VGG16\n",
    "model = VGG16(include_top=False, weights='imagenet',input_shape=(32,32,3))\n",
    "model.summary()"
   ]
  },
  {
   "cell_type": "code",
   "execution_count": 3,
   "metadata": {
    "id": "UcXpv4_3zkZK"
   },
   "outputs": [],
   "source": [
    "# add new classifier layers\n",
    "flat1 = Flatten()(model.layers[-1].output)\n",
    "class1 = Dense(1024, activation='relu')(flat1)\n",
    "output = Dense(10, activation='softmax')(class1)\n",
    "model = Model(inputs=model.inputs, outputs=output)"
   ]
  },
  {
   "cell_type": "code",
   "execution_count": 4,
   "metadata": {
    "colab": {
     "base_uri": "https://localhost:8080/"
    },
    "id": "VBevMqaH1jn5",
    "outputId": "2e9c60d7-ba86-4956-9e10-ce095e32766f"
   },
   "outputs": [
    {
     "name": "stdout",
     "output_type": "stream",
     "text": [
      "Model: \"model\"\n",
      "_________________________________________________________________\n",
      "Layer (type)                 Output Shape              Param #   \n",
      "=================================================================\n",
      "input_1 (InputLayer)         [(None, 32, 32, 3)]       0         \n",
      "_________________________________________________________________\n",
      "block1_conv1 (Conv2D)        (None, 32, 32, 64)        1792      \n",
      "_________________________________________________________________\n",
      "block1_conv2 (Conv2D)        (None, 32, 32, 64)        36928     \n",
      "_________________________________________________________________\n",
      "block1_pool (MaxPooling2D)   (None, 16, 16, 64)        0         \n",
      "_________________________________________________________________\n",
      "block2_conv1 (Conv2D)        (None, 16, 16, 128)       73856     \n",
      "_________________________________________________________________\n",
      "block2_conv2 (Conv2D)        (None, 16, 16, 128)       147584    \n",
      "_________________________________________________________________\n",
      "block2_pool (MaxPooling2D)   (None, 8, 8, 128)         0         \n",
      "_________________________________________________________________\n",
      "block3_conv1 (Conv2D)        (None, 8, 8, 256)         295168    \n",
      "_________________________________________________________________\n",
      "block3_conv2 (Conv2D)        (None, 8, 8, 256)         590080    \n",
      "_________________________________________________________________\n",
      "block3_conv3 (Conv2D)        (None, 8, 8, 256)         590080    \n",
      "_________________________________________________________________\n",
      "block3_pool (MaxPooling2D)   (None, 4, 4, 256)         0         \n",
      "_________________________________________________________________\n",
      "block4_conv1 (Conv2D)        (None, 4, 4, 512)         1180160   \n",
      "_________________________________________________________________\n",
      "block4_conv2 (Conv2D)        (None, 4, 4, 512)         2359808   \n",
      "_________________________________________________________________\n",
      "block4_conv3 (Conv2D)        (None, 4, 4, 512)         2359808   \n",
      "_________________________________________________________________\n",
      "block4_pool (MaxPooling2D)   (None, 2, 2, 512)         0         \n",
      "_________________________________________________________________\n",
      "block5_conv1 (Conv2D)        (None, 2, 2, 512)         2359808   \n",
      "_________________________________________________________________\n",
      "block5_conv2 (Conv2D)        (None, 2, 2, 512)         2359808   \n",
      "_________________________________________________________________\n",
      "block5_conv3 (Conv2D)        (None, 2, 2, 512)         2359808   \n",
      "_________________________________________________________________\n",
      "block5_pool (MaxPooling2D)   (None, 1, 1, 512)         0         \n",
      "_________________________________________________________________\n",
      "flatten (Flatten)            (None, 512)               0         \n",
      "_________________________________________________________________\n",
      "dense (Dense)                (None, 1024)              525312    \n",
      "_________________________________________________________________\n",
      "dense_1 (Dense)              (None, 10)                10250     \n",
      "=================================================================\n",
      "Total params: 15,250,250\n",
      "Trainable params: 15,250,250\n",
      "Non-trainable params: 0\n",
      "_________________________________________________________________\n"
     ]
    }
   ],
   "source": [
    "model.summary()"
   ]
  },
  {
   "cell_type": "markdown",
   "metadata": {
    "id": "RMAkC7_EVGep"
   },
   "source": [
    "## Load CIFAR-10 Data"
   ]
  },
  {
   "cell_type": "code",
   "execution_count": 5,
   "metadata": {
    "colab": {
     "base_uri": "https://localhost:8080/"
    },
    "id": "WA5VhyNlT4Ry",
    "outputId": "02f6f284-d0e1-48f4-a2c6-a94eb990fb2d"
   },
   "outputs": [
    {
     "name": "stdout",
     "output_type": "stream",
     "text": [
      "(50000, 32, 32, 3) (50000, 1)\n",
      "(10000, 32, 32, 3) (10000, 1)\n"
     ]
    }
   ],
   "source": [
    "from tensorflow.python.keras.datasets import cifar10\n",
    "(x_train, y_train), (x_test, y_test) = cifar10.load_data() #load dataset into ~/.keras/datasets/\n",
    "\n",
    "#printout shapes of train and test data\n",
    "print(x_train.shape, y_train.shape)\n",
    "print(x_test.shape, y_test.shape)"
   ]
  },
  {
   "cell_type": "code",
   "execution_count": 6,
   "metadata": {
    "colab": {
     "base_uri": "https://localhost:8080/"
    },
    "id": "ycxhY-MKVNg1",
    "outputId": "e4254c43-3a4c-43d9-e6ca-6e0e1aecf821"
   },
   "outputs": [
    {
     "name": "stdout",
     "output_type": "stream",
     "text": [
      "50000 10000 (32, 32, 3) 9\n"
     ]
    }
   ],
   "source": [
    "N_train = 50000\n",
    "N_test = 10000\n",
    "img_shape = (32, 32, 3) #use a tuple in the fomat: (height, width, n_channels)\n",
    "n_classes = 9\n",
    "print(N_train,N_test,img_shape,n_classes)"
   ]
  },
  {
   "cell_type": "code",
   "execution_count": 7,
   "metadata": {},
   "outputs": [],
   "source": [
    "class_names = ['airplane','automobile','bird','cat','deer','dog','frog','horse','ship','truck']"
   ]
  },
  {
   "cell_type": "code",
   "execution_count": 8,
   "metadata": {},
   "outputs": [],
   "source": [
    "idx = (y_train == 3).reshape(x_train.shape[0])\n",
    "images_cat = x_train[idx]"
   ]
  },
  {
   "cell_type": "code",
   "execution_count": 9,
   "metadata": {},
   "outputs": [
    {
     "data": {
      "text/plain": [
       "<matplotlib.image.AxesImage at 0x1bbaf144820>"
      ]
     },
     "execution_count": 9,
     "metadata": {},
     "output_type": "execute_result"
    },
    {
     "data": {
      "image/png": "[encoded data removed]",
      "text/plain": [
       "<Figure size 432x288 with 1 Axes>"
      ]
     },
     "metadata": {
      "needs_background": "light"
     },
     "output_type": "display_data"
    }
   ],
   "source": [
    "plt.imshow(images_cat[0])"
   ]
  },
  {
   "cell_type": "code",
   "execution_count": 10,
   "metadata": {},
   "outputs": [],
   "source": [
    "images_cat = images_cat[0:3]"
   ]
  },
  {
   "cell_type": "code",
   "execution_count": 11,
   "metadata": {},
   "outputs": [],
   "source": [
    "idx = (y_train == 1).reshape(x_train.shape[0])\n",
    "images_automobile = x_train[idx]"
   ]
  },
  {
   "cell_type": "code",
   "execution_count": 12,
   "metadata": {},
   "outputs": [
    {
     "data": {
      "text/plain": [
       "<matplotlib.image.AxesImage at 0x1bbb6451820>"
      ]
     },
     "execution_count": 12,
     "metadata": {},
     "output_type": "execute_result"
    },
    {
     "data": {
      "image/png": "[encoded data removed]",
      "text/plain": [
       "<Figure size 432x288 with 1 Axes>"
      ]
     },
     "metadata": {
      "needs_background": "light"
     },
     "output_type": "display_data"
    }
   ],
   "source": [
    "plt.imshow(images_automobile[0])"
   ]
  },
  {
   "cell_type": "code",
   "execution_count": 13,
   "metadata": {},
   "outputs": [],
   "source": [
    "images_automobile = images_automobile[0:3]"
   ]
  },
  {
   "cell_type": "code",
   "execution_count": 14,
   "metadata": {},
   "outputs": [],
   "source": [
    "images = np.vstack((images_cat, images_automobile))"
   ]
  },
  {
   "cell_type": "code",
   "execution_count": 15,
   "metadata": {},
   "outputs": [
    {
     "data": {
      "text/plain": [
       "<matplotlib.image.AxesImage at 0x1bbb64b95b0>"
      ]
     },
     "execution_count": 15,
     "metadata": {},
     "output_type": "execute_result"
    },
    {
     "data": {
      "image/png": "[encoded data removed]",
      "text/plain": [
       "<Figure size 432x288 with 1 Axes>"
      ]
     },
     "metadata": {
      "needs_background": "light"
     },
     "output_type": "display_data"
    }
   ],
   "source": [
    "plt.imshow(images[1])"
   ]
  },
  {
   "cell_type": "code",
   "execution_count": 16,
   "metadata": {},
   "outputs": [
    {
     "data": {
      "text/plain": [
       "<matplotlib.image.AxesImage at 0x1bbb6512970>"
      ]
     },
     "execution_count": 16,
     "metadata": {},
     "output_type": "execute_result"
    },
    {
     "data": {
      "image/png": "[encoded data removed]",
      "text/plain": [
       "<Figure size 432x288 with 1 Axes>"
      ]
     },
     "metadata": {
      "needs_background": "light"
     },
     "output_type": "display_data"
    }
   ],
   "source": [
    "plt.imshow(images[4])"
   ]
  },
  {
   "cell_type": "code",
   "execution_count": 17,
   "metadata": {
    "colab": {
     "base_uri": "https://localhost:8080/"
    },
    "id": "Q1qzK2xzNtbj",
    "outputId": "fc0dffe4-3af4-415b-aa69-0771f40392ff"
   },
   "outputs": [
    {
     "name": "stdout",
     "output_type": "stream",
     "text": [
      "block1_conv1 (3, 3, 3, 64)\n",
      "block1_conv2 (3, 3, 64, 64)\n",
      "block2_conv1 (3, 3, 64, 128)\n",
      "block2_conv2 (3, 3, 128, 128)\n",
      "block3_conv1 (3, 3, 128, 256)\n",
      "block3_conv2 (3, 3, 256, 256)\n",
      "block3_conv3 (3, 3, 256, 256)\n",
      "block4_conv1 (3, 3, 256, 512)\n",
      "block4_conv2 (3, 3, 512, 512)\n",
      "block4_conv3 (3, 3, 512, 512)\n",
      "block5_conv1 (3, 3, 512, 512)\n",
      "block5_conv2 (3, 3, 512, 512)\n",
      "block5_conv3 (3, 3, 512, 512)\n"
     ]
    }
   ],
   "source": [
    "for layer in model.layers:\n",
    "    # check for convolutional layer\n",
    "    if 'conv' not in layer.name:\n",
    "        continue\n",
    "    # note that layer.get_weights()[0] contains the weights and layer.get_weights()[0] the biases\n",
    "    filters, biases = layer.get_weights()\n",
    "    print(layer.name, filters.shape)"
   ]
  },
  {
   "cell_type": "markdown",
   "metadata": {},
   "source": [
    "### Define function for general layer/neuron/image index: "
   ]
  },
  {
   "cell_type": "markdown",
   "metadata": {},
   "source": [
    "outputSize_W = (W−F+2P)/S+1\n",
    "\n",
    "outputSize_H = (H−F+2P)/S+1\n",
    "\n",
    "W = width = 32, H = height = 32, F = filter size = 3, P = padding = 1, S = stride = 1"
   ]
  },
  {
   "cell_type": "code",
   "execution_count": 18,
   "metadata": {},
   "outputs": [
    {
     "name": "stdout",
     "output_type": "stream",
     "text": [
      "(20, 32, 32, 3)\n",
      "[[  0.          0.          0.        ...   0.          0.\n",
      "    3.4405537]\n",
      " [  0.         11.904103    0.        ...  18.178835   17.761187\n",
      "  216.9697   ]\n",
      " [  0.          9.249659    0.        ...   1.7463821   4.3211412\n",
      "  215.69765  ]\n",
      " ...\n",
      " [  0.         62.68112    11.501498  ... 106.87595    12.279932\n",
      "  205.97278  ]\n",
      " [  0.         79.57858    14.565524  ... 102.42344    35.550415\n",
      "  209.31989  ]\n",
      " [  8.433222  282.69382   235.0941    ... 250.86687   204.8722\n",
      "  285.64337  ]]\n",
      "(20, 32, 32, 64)\n",
      "[  0.        0.        0.      ... 250.86687 204.8722  285.64337]\n"
     ]
    }
   ],
   "source": [
    "layer = model.layers[1] \n",
    "output_layer = K.function(inputs=[model.layers[1].input], \n",
    "                          outputs=[layer.output])\n",
    "images = x_test[range(20)]\n",
    "print(images.shape)\n",
    "## output is n feature maps\n",
    "out = output_layer(np.array(images))[0]\n",
    "print(out[0,:,:,0])\n",
    "print(out.shape)\n",
    "out = out.reshape((20,1024,64))\n",
    "print(out[0,:,0])"
   ]
  },
  {
   "attachments": {
    "image.png": {
     "image/png": "[encoded data removed]"
    }
   },
   "cell_type": "markdown",
   "metadata": {},
   "source": [
    "![image.png](attachment:image.png)"
   ]
  },
  {
   "cell_type": "code",
   "execution_count": 19,
   "metadata": {},
   "outputs": [
    {
     "data": {
      "text/plain": [
       "(20, 64, 1024)"
      ]
     },
     "execution_count": 19,
     "metadata": {},
     "output_type": "execute_result"
    }
   ],
   "source": [
    "out_t = np.transpose(out, (0, 2, 1))\n",
    "out_t.shape"
   ]
  },
  {
   "cell_type": "code",
   "execution_count": 20,
   "metadata": {},
   "outputs": [
    {
     "name": "stdout",
     "output_type": "stream",
     "text": [
      "96.39756\n",
      "96.39756\n"
     ]
    }
   ],
   "source": [
    "## check that it's doing the right thing\n",
    "print(out[0,0,1])\n",
    "print(out_t[0,1,0])"
   ]
  },
  {
   "cell_type": "code",
   "execution_count": 21,
   "metadata": {},
   "outputs": [
    {
     "data": {
      "text/plain": [
       "array([[9.6397560e+01, 1.3190565e+02, 1.3485561e+02, 1.3528622e+02,\n",
       "        1.3495377e+02],\n",
       "       [4.8942875e+01, 4.5322811e+01, 4.5461102e+01, 4.5452892e+01,\n",
       "        4.5452892e+01],\n",
       "       [4.6754010e-02, 0.0000000e+00, 0.0000000e+00, 0.0000000e+00,\n",
       "        0.0000000e+00],\n",
       "       [2.4499405e+01, 1.5355041e+01, 7.2169375e+00, 7.0378919e+00,\n",
       "        5.7022734e+00],\n",
       "       [2.1845175e+01, 2.3261555e+01, 1.4928829e+01, 1.1837575e+01,\n",
       "        1.4237634e+01],\n",
       "       [8.1973007e+01, 9.1556770e+01, 7.9173363e+01, 8.3862282e+01,\n",
       "        9.7328690e+01],\n",
       "       [1.3726521e+02, 2.0249191e+02, 2.1598846e+02, 2.2336649e+02,\n",
       "        2.3252599e+02],\n",
       "       [1.8448906e+01, 1.7246447e+01, 1.6922066e+01, 1.7302217e+01,\n",
       "        1.9282417e+01],\n",
       "       [1.3547434e+00, 8.2610220e-01, 9.3645954e+00, 3.7078407e+01,\n",
       "        7.4856163e+01],\n",
       "       [5.1336700e+01, 5.2089771e+01, 5.3187805e+01, 5.2891254e+01,\n",
       "        5.1735374e+01],\n",
       "       [0.0000000e+00, 0.0000000e+00, 0.0000000e+00, 0.0000000e+00,\n",
       "        0.0000000e+00],\n",
       "       [5.5278934e+01, 5.2061890e+01, 5.0043495e+01, 5.1400646e+01,\n",
       "        5.2366531e+01],\n",
       "       [5.0730511e+01, 5.8895157e+01, 4.6816765e+01, 4.0627628e+01,\n",
       "        4.2446430e+01],\n",
       "       [1.1006112e+01, 1.7257511e+01, 1.8586803e+01, 2.0673317e+01,\n",
       "        2.4353216e+01],\n",
       "       [1.2449129e+02, 1.6378807e+02, 1.6294463e+02, 1.5702922e+02,\n",
       "        1.5160463e+02],\n",
       "       [3.7230286e+01, 2.4257206e+01, 2.1246859e+01, 2.2193733e+01,\n",
       "        2.4000725e+01],\n",
       "       [2.6124573e+01, 2.8098593e+01, 2.6141342e+01, 2.4938698e+01,\n",
       "        2.5329916e+01],\n",
       "       [0.0000000e+00, 0.0000000e+00, 0.0000000e+00, 0.0000000e+00,\n",
       "        0.0000000e+00],\n",
       "       [3.0777637e+01, 2.1199413e+01, 2.4630257e+01, 2.7689610e+01,\n",
       "        3.0382442e+01],\n",
       "       [1.2623693e+01, 1.2430831e+01, 1.3659622e+01, 1.5915179e+01,\n",
       "        1.7697006e+01]], dtype=float32)"
      ]
     },
     "execution_count": 21,
     "metadata": {},
     "output_type": "execute_result"
    }
   ],
   "source": [
    "out_t[:,1,0:5]"
   ]
  },
  {
   "cell_type": "code",
   "execution_count": 22,
   "metadata": {},
   "outputs": [
    {
     "data": {
      "text/plain": [
       "(20, 64)"
      ]
     },
     "execution_count": 22,
     "metadata": {},
     "output_type": "execute_result"
    }
   ],
   "source": [
    "fm_avg = out_t.sum(axis=2)/out_t.shape[2]\n",
    "fm_avg.shape"
   ]
  },
  {
   "cell_type": "code",
   "execution_count": 23,
   "metadata": {},
   "outputs": [
    {
     "data": {
      "text/plain": [
       "array([31, 31, 31, 31, 31, 31, 31, 31, 31, 31, 31, 31, 31, 31, 31, 31, 31,\n",
       "       31, 31, 31], dtype=int64)"
      ]
     },
     "execution_count": 23,
     "metadata": {},
     "output_type": "execute_result"
    }
   ],
   "source": [
    "max_ind = np.argmax(fm_avg,axis = 1)\n",
    "max_ind"
   ]
  },
  {
   "cell_type": "code",
   "execution_count": 24,
   "metadata": {},
   "outputs": [],
   "source": [
    "class_names = ['airplane','automobile','bird','cat','deer','dog','frog','horse','ship','truck']"
   ]
  },
  {
   "cell_type": "markdown",
   "metadata": {},
   "source": [
    "## Compute neuron output:\n",
    "The following code does the following:\n",
    "For each layer in the neural network, choose one feature map with the highest firing rate. "
   ]
  },
  {
   "cell_type": "code",
   "execution_count": 25,
   "metadata": {},
   "outputs": [],
   "source": [
    "def compute_neuron_output(layer_indices, n_images_per_class, image_classes):\n",
    "    ## layer_indices, image_classes, n_images_classes, nFM_per_layers\n",
    "    \n",
    "#   previously: images = x_train[image_indices]\n",
    "    n_classes = len(image_classes)\n",
    "    n_layers = len(layer_indices)\n",
    "    n_images = n_classes * n_images_per_class\n",
    "    neuron_output_hightest = []\n",
    "    \n",
    "    for i in range(n_classes):\n",
    "        idx = (y_train == image_classes[i]).reshape(x_train.shape[0])\n",
    "        images = x_train[idx]\n",
    "        ## images has shape (5000, 32, 32, 3), take the first n_images_per_class images from each selected class:\n",
    "        images = images[0:n_images_per_class,:,:,:]\n",
    "        if i == 0:\n",
    "            images_selected_classes = images\n",
    "        else:\n",
    "            images_selected_classes = np.vstack((images_selected_classes, images))\n",
    "    print(images_selected_classes.shape)\n",
    "    \n",
    "    for layer_index in layer_indices:\n",
    "        layer = model.layers[layer_index] \n",
    "        \n",
    "        # check for convolutional layer\n",
    "        if 'conv' not in layer.name:\n",
    "            continue\n",
    "        \n",
    "        ## note: always take the images as inputs\n",
    "        output_layer = K.function(inputs=[model.layers[1].input], \n",
    "                              outputs=[layer.output])\n",
    "        \n",
    "        ## output is n feature maps\n",
    "        neuron_output = output_layer(np.array(images_selected_classes))[0]\n",
    "    \n",
    "        ## number of neurons is nrow * ncol * n_feature_maps\n",
    "        n_images, n_row, n_col, n_feature_maps = neuron_output.shape[:]\n",
    "        neuron_output = neuron_output.reshape((n_images, n_row * n_col, n_feature_maps))\n",
    "        \n",
    "        ## transpose to organize by feature maps\n",
    "        ## neuron_output_by_fm is (n_images, n_feature_maps, #neurons)\n",
    "        neuron_output_by_fm = np.transpose(neuron_output, (0, 2, 1)) \n",
    "        \n",
    "        ## compute avg neuron firing rate in each feature map\n",
    "        ## fm_avg is (n_images, n_feature_maps)\n",
    "        fm_avg = neuron_output_by_fm.sum(axis=2) / neuron_output_by_fm.shape[2]\n",
    "        \n",
    "        fm_max_ind = np.argmax(fm_avg,axis = 1)\n",
    "        \n",
    "        print(\"Current layer: \" + layer.name)\n",
    "        print(\"Indices of FM with highest average firing rate in response to each image: \" )\n",
    "        print(fm_max_ind)\n",
    "        print(\"#neurons in the FM with highest average firing rate: \" + str(n_row * n_col))\n",
    "        print('----------------------------------------------------\\n')\n",
    "        \n",
    "        \n",
    "        temp = neuron_output_by_fm[0,fm_max_ind[0],:].reshape(1, n_row * n_col)\n",
    "        for i in range(1,n_images):\n",
    "            temp = np.vstack((temp, neuron_output_by_fm[i,fm_max_ind[i],:].reshape(1, n_row * n_col)))\n",
    "        if(layer_index == 1): \n",
    "            neuron_output_hightest = temp\n",
    "        else:\n",
    "            neuron_output_hightest = np.hstack((neuron_output_hightest, temp))\n",
    "        \n",
    "    ## choose 10 feature maps with highest avg\n",
    "    ## pca + tca \n",
    "    ## choose the images by classes\n",
    "    ## activties to cars \n",
    "    return neuron_output_hightest"
   ]
  },
  {
   "cell_type": "markdown",
   "metadata": {},
   "source": [
    "## PCA + Kmeans:"
   ]
  },
  {
   "cell_type": "code",
   "execution_count": 26,
   "metadata": {},
   "outputs": [
    {
     "name": "stdout",
     "output_type": "stream",
     "text": [
      "(400, 32, 32, 3)\n",
      "Current layer: block1_conv1\n",
      "Indices of FM with highest average firing rate in response to each image: \n",
      "[31 31 31 31 31 31 31 31 31 31 31 31 31 31 31 31 31 31 31 31 31 31 31 31\n",
      " 31 31 31 31 31 31 31 31 31 31 31 31 31 31 31 31 31 31 31 31 31 31 31 31\n",
      " 31 31 31 31 31 31 31 31 31 31 31 31 31 31 31 31 31 31 31 31 31 31 31 31\n",
      " 31 31 31 31 31 31 31 31 31 31 31 31 31 31 31 31 31 31 31 31 31 31 31 31\n",
      " 31 31 31 31 31 31 31 31 31 31 31 31 31 31 31 31 31 31 31 31 31 31 31 31\n",
      " 31 31 31 31 31 31 31 31 31 31 31 31 31 31 31 31 31 31 31 31 31 31 31 31\n",
      " 31 31 31 31 31 31 31 31 31 31 31 31 31 31 31 31 31 31 31 31 31 31 31 31\n",
      " 31 31 31 31 31 31 31 31 31 31 31 31 31 31 31 31 31 31 31 31 31 31 31 31\n",
      " 31 31 31 31 31 31 31 31 31 31  5 31 31 31 31 31 31 31 31 31 31 31 31 31\n",
      " 31 31 31 31 31 31 31 31 31 31 31 31 31 31 31 31 31 31 31 31 31 31 31 31\n",
      " 31 31 31 31 31 31 31 31 31 31 31 31 31 31 31 31 31 31 31 31 31 31 31 31\n",
      " 31  1 31 31 31 31 31 31 31 31 31 31 31 31 31 31 31 31 31 31 31 31 31 31\n",
      " 31 31 31 31 31 31 31 31 31 31 31 31 31 31 31 31 31 31 31 31 31 31 31 31\n",
      " 31 31 31 31 31 31 31 31 31 31 31 31 31 31 31 31 31 31 31 31 31 31 31 31\n",
      " 31 31 31 31 31 31 31 31 31 31 31 31 31 31 31 31 31 31 31 31 31 31 31 31\n",
      " 31 31 31 31 31 31 31 31 31 31 31 31 31 31 31 31 31 31 31 31 31 31 31 31\n",
      " 31 31 31 31 31 31 31 31 31 31 31 31 31 31 31 31]\n",
      "#neurons in the FM with highest average firing rate: 1024\n",
      "----------------------------------------------------\n",
      "\n",
      "Current layer: block1_conv2\n",
      "Indices of FM with highest average firing rate in response to each image: \n",
      "[ 4  4 27  4  4  4  4  4  4  4  4  4  4  4  4 45  4  4  4  4 27  4  4  4\n",
      "  4  4  4  4  4  4  4  4  4  4  4  4  4  4  4  4  4  4  4  4  4  4  4  4\n",
      " 45  4  4  4  4  4  4  4  4  4  4  4  4  4  4  4  4  4  4  4  4  4  4  4\n",
      "  4  4  4  4 45  4  4  4 25  4  4  4  4  4  4  4  4  4  4  4  4  4  4  4\n",
      "  4  4  4  4  4 27  4  4  4  4  4  4  4  4  4  4  4  4  4 27  4  4  4  4\n",
      "  4  4  4  4  4  4  4  4  4  4  4  4  4  4  4  4  4  4 27  4  4  4  4  4\n",
      "  4  4  4  4  4  4  4  4  4 27  4  4 52  4  4  4  4  4  4  4  4  4  4  4\n",
      "  4  4  4  4  4  4  4  4  4  4  4  4  4  4  4  4  4  4  4  4 27  4  4  4\n",
      "  4 27  4  4  4  4  4  4  4  4 52 27  4  4  4  4  4  4  4  4  4  4 27  4\n",
      "  4  4  4  4  4  4  4  4  4  4  4  4  4  4 27  4  4  4  4  4  4  4  4  4\n",
      "  4  4  4  4  4  4  4  4  4  4  4  4  4  4  4  4  4  4  4  4  4 27  4  4\n",
      " 27 27  4  4  4  4 27  4  4  4  4  4  4 27  4 27  4  4  4 27  4  4  4  4\n",
      "  4  4 27  4  4 27  4  4  4  4 27  4  4  4  4 27  4  4  4  4  4  4  4  4\n",
      "  4  4  4  4  4  4  4  4  4  4  4  4  4  4  4  4  4  4  4  4  4  4  4  4\n",
      "  4  4  4  4  4  4  4  4  4  4  4  4  4  4  4  4  4 27  4  4  4  4  4  4\n",
      "  4  4  4  4  4  4  4  4  4  4  4  4  4  4  4  4  4  4  4  4  4  4  4  4\n",
      "  4  4  4  4  4  4  4  4  4 27  4  4  4  4  4  4]\n",
      "#neurons in the FM with highest average firing rate: 1024\n",
      "----------------------------------------------------\n",
      "\n",
      "Current layer: block2_conv1\n",
      "Indices of FM with highest average firing rate in response to each image: \n",
      "[109 125 125 107 125 125 119 107 119  20 125 119 125 119 119  32 125  88\n",
      " 119   3 125 119  32 125 119  72 119 119 119 119 125 119 119 119 119 119\n",
      " 125   3 125 119   3 119 125 119   3 119   3 125   3 119 119 119 125 125\n",
      " 119 119 119 119  50 125 109 125 125 119   3 119 119 119 119 119 119 119\n",
      " 125 125 125 125 119 119 119   3 119 119 119   3 125 125 119   3 119 119\n",
      " 119 125 119 119 119   3  50 125  65 119  65 114 107 125  12 125 125 107\n",
      " 125 107 125 125 125 125 125  56 125 125 125 119  59 114  65  56 125 125\n",
      " 125 125  65 107  65 125  97  65 125  65   3 125 107 125  65 107 107 109\n",
      "  65 107 107 119 125  32  65 125 125 102 125 107  12  65 125 125 125 125\n",
      "  65 107 125 125 119 107 125  65 125 107 125  65 125 125 107  65 107 119\n",
      " 119 125 125 125 119  65 125 125 114  54 102  59 107  65 125  88 125 125\n",
      " 107 125  65 125  12 107 107 119 119 125 125 125 107 119 114 125  53  94\n",
      " 107 125 125 125 119 119 119  94  53 125  94 107 125 119  53 125 107 125\n",
      "  70  94 107 125 125  94 107 125 107  65 125 125 107 125 125 107 125 125\n",
      "  12 125 107 125 119 107 125 125 125 107 125 107  53 114 107 125 119 125\n",
      " 125  65 107 125 125  70 107   3 107   3 107 125 119   3 119 125 125  94\n",
      " 125 125 102 119  65 107 119 119 125 125 104 125 107 107 125 107 125 107\n",
      " 125 107 107 125 125  94 125 125 125  94 125 125 107 107 107  56 119 107\n",
      " 107 125 125 107 125 125 107 107 107 107 107 107 125   3 107 107 125  94\n",
      " 107  65 107  94 107 107 107 125 125 125 107 107 125  94 109 125 125 107\n",
      " 125 119 125 125 125 125 125 107 107 119 125 114 107 125 125  65  53  94\n",
      " 125 125 125 125 119   3 125  94 107 107 125 125 125  94 119 107  94 107\n",
      " 107 125 107 119]\n",
      "#neurons in the FM with highest average firing rate: 256\n",
      "----------------------------------------------------\n",
      "\n",
      "Current layer: block2_conv2\n",
      "Indices of FM with highest average firing rate in response to each image: \n",
      "[ 85  85  85  85   3  56  85  56  85  85 100  85  85  85  85  85  85  56\n",
      "  85  85  85  85  86  85  85  56  85  85  85  85  56  85  85  85  85  85\n",
      "  85  56  85  85  56  85  85  85  56  85  85  85  85  85  85  85  56  85\n",
      "  85  85  85  85  85  85  85  56  85  85  85  85  85  85  85  85  85  85\n",
      "  85  85  85  85  85  85  85  85  85  85  85 115  85  56  85  77  85  85\n",
      "  85  85  85  85  85  85  85  85  56  85   3  85  56 125  56  56   3  85\n",
      " 100 100  85  85  85  56  85  23  56  85  85  85  56  23  85  85  85 126\n",
      "  85   3 100  85  85  85 125  56  85  56  85   3  56  85  56 100  85 103\n",
      "  56 100 100  85 126  85 125  85  85  45  85  56  63  56  85  85  85 100\n",
      "  85 100  85   3  85   3  56  56  66 100  85  85  85  85  56  56  23  85\n",
      "  85  85   3 125  85  85  85  85  63   3  56  56 100  56  85  56  85  56\n",
      "  85 117  85  45  85 126 100  85  85 125  85  85 100  85  85  85  85  66\n",
      " 100 100  85  85  85  85  85  94  85  85  85  94  85  85  85  85  85  85\n",
      "  85  45 100  85  85  56  85  85 100 117 117  85  33 117  85  85  85  85\n",
      "  85  85  85  33  85 100 100  85  85 100  85 100  85  85 100  85  85  85\n",
      " 100  85 125  85  85  13  45  85  33  85  85  85  85  45  85  85  85  85\n",
      "   3  85  85  85 126 100  85  85 126  85  85  85 100  85  33  85  85  85\n",
      "  85  85  94  33  85  85  33  85  85  85  56 125 126  85  85  11  85 100\n",
      " 100 100  85 126  85  85   3  35  85  35  33  33   3 100 100  85  85  85\n",
      "  33  85 100  85 100 126  85  85  33  85  85  63  85  85 100  85  85 100\n",
      "  85  85  85  85  85 126 100  85  85  85  85  85  85 126 126  85  85  66\n",
      "  85  85  33  33  85  85  85  33 100  85  85  85  33  85  85  85  33 100\n",
      " 126 126 100  85]\n",
      "#neurons in the FM with highest average firing rate: 256\n",
      "----------------------------------------------------\n",
      "\n",
      "Current layer: block3_conv1\n",
      "Indices of FM with highest average firing rate in response to each image: \n",
      "[  2   2   2   2 218   2   2   2   2   2   2   2   2   2   2   2   2   2\n",
      "   2   2   2   2   2   2   2   2   2   2   2   2   2   2   2   2   2   2\n",
      "   2   2   2   2   2   2   2   2   2   2   2   2   2   2   2   2   2   2\n",
      "   2   2   2   2   2   2   2   2   2   2   2   2   2   2   2   2   2   2\n",
      "   2   2   2   2   2   2   2   2   2   2   2 218 218   2   2   2   2   2\n",
      "   2   2   2   2   2   2   2   2   2   2   2   2   2   2   2   2   2   2\n",
      "   2   2   2   2   2   2   2   2   2   2   2   2 218   2   2   2   2   2\n",
      "   2   2   2   2   2   2   2   2   2   2   2   2   2   2   2   2   2   2\n",
      "   2   2   2   2   2   2   2   2   2   2   2   2   2   2   2   2   2   2\n",
      "   2   2   2   2   2   2   2   2   2   2   2   2   2   2   2   2   2   2\n",
      "   2   2   2   2   2   2   2   2   2   2   2   2   2   2   2   2   2   2\n",
      "   2   2   2   2   2   2   2   2   2   2   2   2   2   2   2   2   2   2\n",
      "   2   2   2   2 218   2   2   2   2   2   2   2   2   2   2   2   2   2\n",
      "   2   2   2   2   2   2   2   2   2   2   2   2   2   2   2   2   2   2\n",
      "   2   2   2   2   2   2   2   2   2   2   2   2   2   2   2   2   2   2\n",
      "   2   2   2   2   2   2 201   2   2   2   2   2   2   2   2   2   2   2\n",
      " 218   2   2   2   2   2   2   2 218   2   2   2   2   2   2   2   2   2\n",
      "   2   2   2   2   2   2   2   2   2   2   2   2 219   2   2   2   2   2\n",
      "   2   2   2 218   2   2 201   2   2   2   2 218   2   2   2   2   2   2\n",
      "   2   2   2   2   2   2   2   2   2   2   2   2   2   2   2   2   2   2\n",
      "   2   2   2   2   2   2   2   2   2   2   2   2   2   2 219   2   2   2\n",
      "   2   2   2   2   2   2   2   2   2   2   2   2   2   2   2   2   2   2\n",
      " 218 218   2   2]\n",
      "#neurons in the FM with highest average firing rate: 64\n",
      "----------------------------------------------------\n",
      "\n"
     ]
    },
    {
     "name": "stdout",
     "output_type": "stream",
     "text": [
      "Current layer: block3_conv2\n",
      "Indices of FM with highest average firing rate in response to each image: \n",
      "[65 65 65 65 65 65 65 65 65 65 65 65 65 65 65 65 65 65 65 65 65 65 65 65\n",
      " 65 65 65 65 65 65 65 65 65 65 65 65 65 65 65 65 65 65 65 65 65 65 65 65\n",
      " 65 65 65 65 65 65 65 65 65 65 65 65 65 65 65 65 65 65 65 65 65 65 65 65\n",
      " 65 65 65 65 65 65 65 65 65 65 65 65 65 65 65 65 65 65 65 65 65 65 65 65\n",
      " 65 65 65 65 65 65 65 65 65 65 65 65 65 65 65 65 65 65 65 65 65 65 65 65\n",
      " 65 65 65 65 65 65 65 65 65 65 65 65 65 65 65 65 65 65 65 65 65 65 65 65\n",
      " 65 65 65 65 65 65 65 65 65 65 65 65 65 65 65 65 65 65 65 65 65 65 65 65\n",
      " 65 65 65 65 65 65 65 65 65 65 65 65 65 65 65 65 65 65 65 65 65 65 65 65\n",
      " 65 65 65 65 65 65 65 65 65 65 65 65 65 65 65 65 65 65 65 65 65 65 65 65\n",
      " 65 65 65 65 65 65 65 65 65 65 65 65 65 65 65 65 65 65 65 65 65 65 65 65\n",
      " 65 65 65 65 65 65 65 65 65 65 65 65 65 65 65 65 65 65 65 65 65 65 65 65\n",
      " 65 65 65 65 65 65 65 65 65 65 65 65 65 65 65 65 65 65 65 65 65 65 65 65\n",
      " 65 65 65 65 65 65 65 65 65 65 65 65 65 65 65 65 65 65 65 65 65 65 65 65\n",
      " 65 65 65 65 65 65 65 65 65 65 65 65 65 65 65 65 65 65 65 65 65 65 65 65\n",
      " 65 65 65 65 65 65 65 65 65 65 65 65 65 65 65 65 65 65 65 65 65 65 65 65\n",
      " 65 65 65 65 65 65 65 65 65 65 65 65 65 65 65 65 65 65 65 65 65 65 65 65\n",
      " 65 65 65 65 65 65 65 65 65 65 65 65 65 65 65 65]\n",
      "#neurons in the FM with highest average firing rate: 64\n",
      "----------------------------------------------------\n",
      "\n",
      "Current layer: block3_conv3\n",
      "Indices of FM with highest average firing rate in response to each image: \n",
      "[ 54  54  54  54  54  54  54  54  54  54  54  54  54  54  54  54  54  54\n",
      "  54  54  54  54  54  54  54  54  54  54  54  54  54  54  54  54  54  54\n",
      "  54  54  54  54  54  54  54  54  54  54  54  54  54  54  54  54  54  54\n",
      "  54  54  54  54  54  54  54  54  54  54  54  54  54  54  54  54  54  54\n",
      "  54  54  54  54  54  54  54  54  54  54  54  54  54  54  54  54  54  54\n",
      "  54  54  54  54  54  54  54  54  54  54  54  54  54  54  54  54  54  54\n",
      "  54  54  54  54  54  54  54  54  54  54  54  54  54  54  54  54  54  54\n",
      "  54  54  54  54  54  54  54  54  54  54  54  54  54  54  54  54  54  54\n",
      "  54  54  54  54  54  54  54  54  54  54  54  54  54  54  54  54  54  54\n",
      "  54  54  54  54  54  54  54  54  54  54  54  54  54  54  54  54  54  54\n",
      "  54  54  54  54  54  54  54  54  54  54  54  54  54  54  54  54  54  54\n",
      "  54  54  54  54  54  54  54  54  54  54  54  54  54  54  54  54  54  54\n",
      "  54  54  54  54  54  54  54  54  54  54  54  54  54  54  54  54  54  54\n",
      "  54  54  54  54  54  54  54  54  54  54  54  54  54  54  54  54  54  54\n",
      "  54  54  54  54  54  54  54  54  54  54  54  54  54  54  54  54  54  54\n",
      "  54  54  54  54  54  54  54  54  54  54  54  54  54  54  54  54  54  54\n",
      "  54  54  54  54  54  54  54  54  54  54 124  54  54  54  54  54  54  54\n",
      "  54  54  54  54  54  54  54  54  54  54  54  54  54  54  54  54  54  54\n",
      "  54  54  54  54  54  54  54  54  54  54  54  54  54  54  54  54  54  54\n",
      "  54  54  54  54  54  54  54  54  54  54  54  54  54  54  54  54  54  54\n",
      "  54  54  54  54  54  54  54  54  54  54  54  54  54  54  54  54  54  54\n",
      "  54  54  54  54  54  54  54  54  54  54  54  54  54  54  54  54  54  54\n",
      "  54  54  54  54]\n",
      "#neurons in the FM with highest average firing rate: 64\n",
      "----------------------------------------------------\n",
      "\n",
      "Current layer: block4_conv1\n",
      "Indices of FM with highest average firing rate in response to each image: \n",
      "[461 461 461 461 461 461 461 461 461 461 461 461 461 461 461 461 461 461\n",
      " 461 461 461 461 461 461 461 461 461 461 461 461 461 461 461 461 461 461\n",
      " 461 461 461 461 461 461 461 461 461 461 461 461 461 461 461 461 461 461\n",
      " 461 461 461 461 461 461 461 461 461 461 461 461 461 461 461 461 461 461\n",
      " 461 461 461 461 461 461 461 461 461 461 461 461 461 461 461 461 461 461\n",
      " 461 461 461 461 461 461 461 461 461 461 461 461 461 461 461 461 461 461\n",
      " 461 461 461 461 461 461 461 461 461 461 461 461 461 461 461 461 461 461\n",
      " 461 461 461 461 461 461 461 461 461 461 461 461 461 461 461 461 461 461\n",
      " 461 461 461 461 461 461 461 461 461 461 461 461 461 461 461 461 461 461\n",
      " 461 461 461 461 461 461 461 461 461 461 461 461 461 461 461 461 461 461\n",
      " 461 461 461 461 461 461 461 461 461 461 461 461 461 461 461 461 461 461\n",
      " 461 461 461 461 461 461 461 461 461 461 461 461 461 461 461 461 461 461\n",
      " 461 461 461 461 461 461 461 461 461 461 461 461 461 461 461 461 461 461\n",
      " 461 461 461 461 461 461 461 461 461 461 461 461 461 461 461 461 461 461\n",
      " 461 461 461 461 461 461 461 461 461 461 461 461 461 461 461 461 461 461\n",
      " 461 461 461 461 461 461 461 461 461 461 461 461 461 461 461 461 461 461\n",
      " 461 461 461 461 461 461 461 461 461 461 461 461 461 461 461 461 461 461\n",
      " 461 461 461 461 461 461 461 461 461 461 461 461 461 461 461 461 461 461\n",
      " 461 461 461 461 461 461 461 461 461 461 461 461 461 461 461 461 461 461\n",
      " 461 461 461 461 461 461 461 461 461 461 461 461 461 461 461 461 461 461\n",
      " 461 461 461 461 461 461 461 461 461 461 461 461 461 461 461 461 461 461\n",
      " 461 461 461 461 461 461 461 461 461 461 461 461 461 461 461 461 461 461\n",
      "  45 461 461 461]\n",
      "#neurons in the FM with highest average firing rate: 16\n",
      "----------------------------------------------------\n",
      "\n",
      "Current layer: block4_conv2\n",
      "Indices of FM with highest average firing rate in response to each image: \n",
      "[ 24  24  26  24 142 143 223  24 470  24  24 223  24  24  24  24  24  24\n",
      "  24 247 450  24  24  24 216  24  24  24  24  24  24  24 469  24  24  24\n",
      "  24 488  24  24 470 223  24  24  24  24  24  24 254  24  24  24  95  24\n",
      "  24 470  24 223  24  24  24  24  24 436  24 216 478 470  24  24  24  24\n",
      " 160 143  24 470  24  24 470 470  24 470 403  24 143  24  24  26  24  24\n",
      "  18 470  24 222  24 143  95 470 231  24  24  24 143  24 470  24  24  24\n",
      " 143  24  26 231  24  24  24  26  24  24  24  24 478  26  18  24 403 143\n",
      " 143  24  24  24  24 403  24 470  95 223  26  24  24  24  24  24  24  24\n",
      " 223  24 223  24 143  24 143 143 470  26  24  24  26 223  24  95  24  24\n",
      "  24  24  24  24 470  24  24 404  24  18  24 223  24  24  24  24  26  24\n",
      "  24 143 143  24 436  24 143  24  26  24  95 202 223 143 143  24  24  26\n",
      "  24 404  24  24 449  24  24  24  24 142  24  24  24  24  24  24  24 162\n",
      "  24  24  24 143 142  24  24 478 470  24  24 142  24  24  24  24 470  24\n",
      "  24  24  24 408  24  24  24  24  24  24 223  24  24  24  24  24  24 478\n",
      "  24 142  24  24  24  24 143  24 143  24  24  24  24  24  24  24  24  24\n",
      "  24 466  24  24  24  24 380  24  24  24  24 142  24  24 142  24  24  24\n",
      "  24 470  24  24  24 470 470  24 143  24 404 142 129  24  24  24  24 143\n",
      "  24  24  24  24 404 142  24  24 186 142 470  24  24  24  24  24  24  24\n",
      "  24  24 142  24  24  24 380 104  24 470  24  24  24  24  24 403  24  24\n",
      " 164  24  24 142  24  24  24 142 142  24  24 223  24 470 143  24  24 142\n",
      "  24  24  24  24  24  24  24  24  24  24  24 478 142 142  24  24  24 469\n",
      "  24  24  24  24 142  24  24  24 142  24  24  24  24  24  24  24 164 142\n",
      "  24 142 142  24]\n",
      "#neurons in the FM with highest average firing rate: 16\n",
      "----------------------------------------------------\n",
      "\n",
      "Current layer: block4_conv3\n",
      "Indices of FM with highest average firing rate in response to each image: \n",
      "[328 157 443  22 325 118 218 463  32 214 353 296 282 464 135 448 121 160\n",
      "  32 321 188 332 412  32  73 508 130  45 394  25 401 381 218 296  22 296\n",
      " 384  87 118  32 135 107 213 415 214 249 443 401 142 218 429 388  60  46\n",
      " 381  32 130  64 118 369 131  87  30 218 188 359  73  32  73 118 218 105\n",
      " 214 296  46 130  45 388 105 483  32 123  52  64 185  33 296 443 118  32\n",
      " 118 118  16  32 460 443  64 214 204  64 407 443 300 505 188 213 213 118\n",
      " 314  22 443 282 213   2 505 443 353 173 121 218 188 443 479 443 118 390\n",
      " 118 443 173 118 188  46 406 314 505 359 443 144 188 349  54  12 121 173\n",
      "  54 392 173 118 165 388  54 264 214 443 118 443 443 114 390  32 434 188\n",
      "  60 509 188 483  32   0  60 434 188 118 371  60 282 468 193 121 443 173\n",
      " 218 392 443  94 118 200 441 328 443 443 443 314 118 443 353 475 188 443\n",
      " 213  94  87 407 485 296 188 486 407  92 118  56 213 121 249 188 363 473\n",
      " 118 188 213 463  92  86 218 331 144 464 118 114 499 261 282 118 200 121\n",
      " 441 363 188 118  22  37 213 211 363 188 461 392 188  86 468   8  94 152\n",
      " 462 168 213  22 211 213  94 188  87  94 363 188 486  30 486 213 173 353\n",
      " 363 200 249 455  64 441 188  25 292 282 406 118 173 486  30 296 460 261\n",
      " 463 103 188 392 407   8 473 118 449 486 176 121 468 173 188 188  32 282\n",
      " 282 282 188  22 176  34   8 417 216  92 121 118  25 462 188 443  30 213\n",
      " 213 188 282 134 407 282 188  87  86   8 131 141 188 188 443 490  22 188\n",
      " 211 282 200 417 282 188 118  32  25 188 188 176  46 341  34 131 282 282\n",
      " 354 188 118 188 188 114 454 417 188 417  41 443  92 454 454 473 369 490\n",
      " 282  92 173 152 296  94  86 163 188 314 213 213 282 282 188 282 417 188\n",
      " 188 188 188 211]\n",
      "#neurons in the FM with highest average firing rate: 16\n",
      "----------------------------------------------------\n",
      "\n"
     ]
    },
    {
     "name": "stdout",
     "output_type": "stream",
     "text": [
      "Current layer: block5_conv1\n",
      "Indices of FM with highest average firing rate in response to each image: \n",
      "[410 410 410 410 410 410 410 410 410 410 410 410 410 410 410 410 410 410\n",
      " 410 410 410 410 410 410 410 410 410 410 410 410 410 410 410 410 410 410\n",
      " 410 410 410 474 410 410 410 410 410 410 410 410 410 410 410 410 410 410\n",
      " 410 410 410 410 410 410 410 410 410 410 410 410 410 410 410 410 410 410\n",
      " 410 410 410 410 410 410 410 410 410 410 410 410 410 410 410 410 410 410\n",
      " 410 410 410 410 410 410 410 410 410 410 410 410 410 410 410 410 410 410\n",
      " 410 410 410 410 410 410 410 410 410 410 410 410 172   1 410 410 410 410\n",
      " 410 410 410 410 474 410 410 410 410 410 410 410 410 410 410 410 410 410\n",
      " 410 410 410 410 410 410 410 410 410 410 410 410 410 410 410 410 410 410\n",
      " 410 410 410 410 410 410 410 410 410 410 117 410 410 410 410 410 410 474\n",
      " 410 410 410 410 410 410 410 410 410 410 410 410 410 410 410 410 410 410\n",
      " 410 410 410 410 410 410 410 410 410 410 410 410 410 410 410 410 410 410\n",
      " 410 410 410 410 410 410 410 395 410 410 410 410 410 410 410 410 410 410\n",
      " 410 410 410 410 474 410 410 410 410 410 410 410 410 410 410 410 410 410\n",
      " 410 410 410 410 410 410 410 410 410 410 410 410 410 410 410 410 410 410\n",
      " 410 410 410 410 410 410 410 410 410 410 410 410 410 410 410 410 410 410\n",
      " 410 410 410 410 410 410 410 410 410 410 410 410 410 117 410 410 410 410\n",
      " 410 410 410 410 410 410 410 410 410 410 410 410 410 410 410 410 410 410\n",
      " 410 410 410 410 410 410 410 410 410 410 410 410 410 410 410 410 410 410\n",
      " 170 410 410 410 410 410 410 410 436 410 410 410 410 410 410 410 410 410\n",
      " 410 410 410 410 410 410 410 410 410 410 410 410 410 117 479 410 410 410\n",
      " 410 410 410 410 410 410 410 410 410 410 410 410 410 410 410 410 410 410\n",
      " 410 410 410 436]\n",
      "#neurons in the FM with highest average firing rate: 4\n",
      "----------------------------------------------------\n",
      "\n",
      "Current layer: block5_conv2\n",
      "Indices of FM with highest average firing rate in response to each image: \n",
      "[284  55  55 284  55  55 284  55 167  55  55 284  55  55  55  55 284  55\n",
      "  55  55  55 400 115  55 167  55 284  55  55  55 284 177 457 284  55 284\n",
      " 284  55  55 284  55  55  55 284  55  55  55 103  55 399  55 284  55 376\n",
      " 149  55 284  55 131  55  55 415  55 284  55 399  55 167 167  55 284  55\n",
      "  55  55  55 284 167 457 284  55 167  55 284 198  55  55 284  55  55 284\n",
      " 484 167 284 173  55 173  55  55  55 167  55  55 284  55  55  55  55  55\n",
      " 505  55  55 391 505  55  55  55 284  55 484 284 484 115 284 401  55  55\n",
      " 396  55  55  55 177 463  55  55 103 484 198  55  55  55  55  55 284  55\n",
      "  55  55  55 284  55  55  55 484  55  55 284  55 401 396  55  55 284 284\n",
      "  55  55 284  55 284  55  55 426  55  55 103 463 284  55  55  55 115 391\n",
      " 284  55  55 502 484 376 198  55 115 115  55 198 103 284 284  55 198  55\n",
      " 284 499 284  55 495 284 505  55 505 284  55  55  55  55  55  55  55  55\n",
      " 457 426 198 434 284 499 149 499  88  41 463 198 212  55 198 284  55 391\n",
      "  55  55  55  55  55  55 505 118  55  55 198 284  55  55  55  55 284 457\n",
      " 167 434 502  55 118  89 391  55 463 505  55  55 401  88 505  55 463  55\n",
      " 497 499  88 212 118  55 177  55  55 198  55 284 177 463  89  55 391  55\n",
      "  55  88  88  55 505  55  55 284  92 198 173 391 445 248  88 284 116  92\n",
      " 198 104 198  55 426  55  55  55 168 276  55 327  55  55  55 198  55  55\n",
      "  55 353 284 227 457 227 505  88  55 310 118  41  55  55  55  55  23 198\n",
      " 446 284 338  55 505  55  55  55  55 505 177 173 302  55 198  55  55 198\n",
      "  55 401 173 115 177  55  55  55  92  55  55  88 505 499 499 499 284  55\n",
      "  55 400 177 276 391  55 499 499 505 114  55 179  55  55 115  88 376  88\n",
      "  55  23  55 118]\n",
      "#neurons in the FM with highest average firing rate: 4\n",
      "----------------------------------------------------\n",
      "\n",
      "Current layer: block5_conv3\n",
      "Indices of FM with highest average firing rate in response to each image: \n",
      "[ 71 182 474 124 277 335 124 454 335 232   2 500  71 109 497  25 143 132\n",
      " 171 335 124 359 487 497 124 225 124 452  21 124 472 124 124 327 121 124\n",
      " 335 232 124 124 312 261 124 328 292   0 487 472 171 108   0 476 251  71\n",
      " 253 386 261 232 292 368 370 232 149 124 124 228 124 156 124 292 124 171\n",
      " 288  71 309 124 494 124 171 386 124 171 124  44  94 246 124 487  26 335\n",
      " 350 211 132 381 124 474 335 327 132 335  63 213 472 132  94 365  92 334\n",
      " 213 149 474  12   2 375 353 384 327 132 132 335 132  53 381 487 381   2\n",
      "  54  94 316  26  94 247 240  26 414 298  94 213 487 449 353 304 213 472\n",
      " 132  71  26  26 158 283 266 358 312 201 124 120 487  94 353 158  92  72\n",
      " 375 327 124 213 225 327 132 201 353 283 158  94   2 327 225 353  53 247\n",
      " 124  71  94 213 334 484 455 359 487  53 487 120 472 201 327 292 213 487\n",
      " 327 213 261  94 474  45 213 261 213  72 413  72 489 353  44 108 149 235\n",
      "  58 133 472 439 149  31 494 439 213 370  71  71 370 108 487 231 359 308\n",
      " 213 213  83 316   2 472 335 263 213  71   2 142 108  71  71 432  72 228\n",
      " 474 228 213 489 263 149  72 149 213  72 149  83 455 455   2  71 494 149\n",
      " 149 439 213 263  83 455  94 359 108 474 472  92 261 472 316 213 370 261\n",
      " 149 213 121  54  94  94  29 472  44 149  72 261  44 159  83 472 149   2\n",
      "  71 213  71 472  72   2 213 411 159 199 308 213  45  71 149  53  99 213\n",
      "  83  83  72 159  94 489  94  96 359 298 370 213  83 213 487 308  28 213\n",
      " 247  71 213 235  30  83 359  54 213 213  83  72 413  39 120 263 124  71\n",
      " 341 474 474  83 213   2  72 474  83 489 231 487 213 159 235 159 124 139\n",
      "  71 213   2 235 109 213 199 136 149 474 124 370 199  71 211 472  54 149\n",
      " 489 277 213  39]\n",
      "#neurons in the FM with highest average firing rate: 4\n",
      "----------------------------------------------------\n",
      "\n"
     ]
    },
    {
     "data": {
      "text/plain": [
       "(400, 2812)"
      ]
     },
     "execution_count": 26,
     "metadata": {},
     "output_type": "execute_result"
    }
   ],
   "source": [
    "neuron_output_hightest = compute_neuron_output(layer_indices = range(21), n_images_per_class = 100, image_classes = [0,1,3,5]) # 'airplane','automobile','cat','dog'\n",
    "neuron_output_hightest.shape\n",
    "## output shape of the first layer = (None, 32, 32, 64) \n",
    "## number of neurons is 32*32*64 = 65536"
   ]
  },
  {
   "cell_type": "code",
   "execution_count": 27,
   "metadata": {},
   "outputs": [
    {
     "data": {
      "text/plain": [
       "(400, 3)"
      ]
     },
     "execution_count": 27,
     "metadata": {},
     "output_type": "execute_result"
    }
   ],
   "source": [
    "from sklearn.decomposition import PCA\n",
    "pca = PCA(3)\n",
    "neuron_output_hightest_projected = pca.fit_transform(neuron_output_hightest)\n",
    "neuron_output_hightest_projected.shape\n",
    "# pca.fit(neuron_output_hightest)\n",
    "# vectors, lambdas = pca.components_, pca.explained_variance_"
   ]
  },
  {
   "cell_type": "code",
   "execution_count": 29,
   "metadata": {},
   "outputs": [
    {
     "data": {
      "text/plain": [
       "<mpl_toolkits.mplot3d.art3d.Path3DCollection at 0x1bbcc38edc0>"
      ]
     },
     "execution_count": 29,
     "metadata": {},
     "output_type": "execute_result"
    },
    {
     "data": {
      "image/png": "[encoded data removed]",
      "text/plain": [
       "<Figure size 432x288 with 1 Axes>"
      ]
     },
     "metadata": {
      "needs_background": "light"
     },
     "output_type": "display_data"
    }
   ],
   "source": [
    "from sklearn.cluster import KMeans\n",
    "\n",
    "kmeans = KMeans(init=\"random\", n_clusters=4, n_init=10, max_iter=300, random_state=42)\n",
    "kmeans.fit(neuron_output_hightest_projected)\n",
    "centroids = kmeans.cluster_centers_\n",
    "clusters = kmeans.labels_\n",
    "\n",
    "ax = plt.axes(projection='3d')\n",
    "ax.scatter(neuron_output_hightest_projected[:, 0], neuron_output_hightest_projected[:,1], neuron_output_hightest_projected[:,2],c=clusters, s=10, cmap='rainbow')"
   ]
  },
  {
   "cell_type": "code",
   "execution_count": 31,
   "metadata": {},
   "outputs": [],
   "source": [
    "import plotly.express as px\n",
    "fig = px.scatter_matrix(neuron_output_hightest_projected)"
   ]
  },
  {
   "cell_type": "markdown",
   "metadata": {},
   "source": [
    "## Diffusion Maps:\n",
    "\n",
    "### This problem can be seen as reducing the dimension of the point cloud of 400 points in the $\\mathbb{R}^{2812}$\n",
    "\n",
    "using pydiffmap: https://pydiffmap.readthedocs.io/en/master/index.html"
   ]
  },
  {
   "cell_type": "code",
   "execution_count": 32,
   "metadata": {},
   "outputs": [],
   "source": [
    "import pydiffmap\n",
    "from pydiffmap import diffusion_map as dm\n",
    "from pydiffmap.visualization import embedding_plot, data_plot"
   ]
  },
  {
   "cell_type": "code",
   "execution_count": 33,
   "metadata": {},
   "outputs": [
    {
     "name": "stdout",
     "output_type": "stream",
     "text": [
      "(400, 32, 32, 3)\n",
      "Current layer: block1_conv1\n",
      "Indices of FM with highest average firing rate in response to each image: \n",
      "[31 31 31 31 31 31 31 31 31 31 31 31 31 31 31 31 31 31 31 31 31 31 31 31\n",
      " 31 31 31 31 31 31 31 31 31 31 31 31 31 31 31 31 31 31 31 31 31 31 31 31\n",
      " 31 31 31 31 31 31 31 31 31 31 31 31 31 31 31 31 31 31 31 31 31 31 31 31\n",
      " 31 31 31 31 31 31 31 31 31 31 31 31 31 31 31 31 31 31 31 31 31 31 31 31\n",
      " 31 31 31 31 31 31 31 31 31 31 31 31 31 31 31 31 31 31 31 31 31 31 31 31\n",
      " 31 31 31 31 31 31 31 31 31 31 31 31 31 31 31 31 31 31 31 31 31 31 31 31\n",
      " 31 31 31 31 31 31 31 31 31 31 31 31 31 31 31 31 31 31 31 31 31 31 31 31\n",
      " 31 31 31 31 31 31 31 31 31 31 31 31 31 31 31 31 31 31 31 31 31 31 31 31\n",
      " 31 31 31 31 31 31 31 31 31 31  5 31 31 31 31 31 31 31 31 31 31 31 31 31\n",
      " 31 31 31 31 31 31 31 31 31 31 31 31 31 31 31 31 31 31 31 31 31 31 31 31\n",
      " 31 31 31 31 31 31 31 31 31 31 31 31 31 31 31 31 31 31 31 31 31 31 31 31\n",
      " 31  1 31 31 31 31 31 31 31 31 31 31 31 31 31 31 31 31 31 31 31 31 31 31\n",
      " 31 31 31 31 31 31 31 31 31 31 31 31 31 31 31 31 31 31 31 31 31 31 31 31\n",
      " 31 31 31 31 31 31 31 31 31 31 31 31 31 31 31 31 31 31 31 31 31 31 31 31\n",
      " 31 31 31 31 31 31 31 31 31 31 31 31 31 31 31 31 31 31 31 31 31 31 31 31\n",
      " 31 31 31 31 31 31 31 31 31 31 31 31 31 31 31 31 31 31 31 31 31 31 31 31\n",
      " 31 31 31 31 31 31 31 31 31 31 31 31 31 31 31 31]\n",
      "#neurons in the FM with highest average firing rate: 1024\n",
      "----------------------------------------------------\n",
      "\n",
      "Current layer: block1_conv2\n",
      "Indices of FM with highest average firing rate in response to each image: \n",
      "[ 4  4 27  4  4  4  4  4  4  4  4  4  4  4  4 45  4  4  4  4 27  4  4  4\n",
      "  4  4  4  4  4  4  4  4  4  4  4  4  4  4  4  4  4  4  4  4  4  4  4  4\n",
      " 45  4  4  4  4  4  4  4  4  4  4  4  4  4  4  4  4  4  4  4  4  4  4  4\n",
      "  4  4  4  4 45  4  4  4 25  4  4  4  4  4  4  4  4  4  4  4  4  4  4  4\n",
      "  4  4  4  4  4 27  4  4  4  4  4  4  4  4  4  4  4  4  4 27  4  4  4  4\n",
      "  4  4  4  4  4  4  4  4  4  4  4  4  4  4  4  4  4  4 27  4  4  4  4  4\n",
      "  4  4  4  4  4  4  4  4  4 27  4  4 52  4  4  4  4  4  4  4  4  4  4  4\n",
      "  4  4  4  4  4  4  4  4  4  4  4  4  4  4  4  4  4  4  4  4 27  4  4  4\n",
      "  4 27  4  4  4  4  4  4  4  4 52 27  4  4  4  4  4  4  4  4  4  4 27  4\n",
      "  4  4  4  4  4  4  4  4  4  4  4  4  4  4 27  4  4  4  4  4  4  4  4  4\n",
      "  4  4  4  4  4  4  4  4  4  4  4  4  4  4  4  4  4  4  4  4  4 27  4  4\n",
      " 27 27  4  4  4  4 27  4  4  4  4  4  4 27  4 27  4  4  4 27  4  4  4  4\n",
      "  4  4 27  4  4 27  4  4  4  4 27  4  4  4  4 27  4  4  4  4  4  4  4  4\n",
      "  4  4  4  4  4  4  4  4  4  4  4  4  4  4  4  4  4  4  4  4  4  4  4  4\n",
      "  4  4  4  4  4  4  4  4  4  4  4  4  4  4  4  4  4 27  4  4  4  4  4  4\n",
      "  4  4  4  4  4  4  4  4  4  4  4  4  4  4  4  4  4  4  4  4  4  4  4  4\n",
      "  4  4  4  4  4  4  4  4  4 27  4  4  4  4  4  4]\n",
      "#neurons in the FM with highest average firing rate: 1024\n",
      "----------------------------------------------------\n",
      "\n",
      "Current layer: block2_conv1\n",
      "Indices of FM with highest average firing rate in response to each image: \n",
      "[109 125 125 107 125 125 119 107 119  20 125 119 125 119 119  32 125  88\n",
      " 119   3 125 119  32 125 119  72 119 119 119 119 125 119 119 119 119 119\n",
      " 125   3 125 119   3 119 125 119   3 119   3 125   3 119 119 119 125 125\n",
      " 119 119 119 119  50 125 109 125 125 119   3 119 119 119 119 119 119 119\n",
      " 125 125 125 125 119 119 119   3 119 119 119   3 125 125 119   3 119 119\n",
      " 119 125 119 119 119   3  50 125  65 119  65 114 107 125  12 125 125 107\n",
      " 125 107 125 125 125 125 125  56 125 125 125 119  59 114  65  56 125 125\n",
      " 125 125  65 107  65 125  97  65 125  65   3 125 107 125  65 107 107 109\n",
      "  65 107 107 119 125  32  65 125 125 102 125 107  12  65 125 125 125 125\n",
      "  65 107 125 125 119 107 125  65 125 107 125  65 125 125 107  65 107 119\n",
      " 119 125 125 125 119  65 125 125 114  54 102  59 107  65 125  88 125 125\n",
      " 107 125  65 125  12 107 107 119 119 125 125 125 107 119 114 125  53  94\n",
      " 107 125 125 125 119 119 119  94  53 125  94 107 125 119  53 125 107 125\n",
      "  70  94 107 125 125  94 107 125 107  65 125 125 107 125 125 107 125 125\n",
      "  12 125 107 125 119 107 125 125 125 107 125 107  53 114 107 125 119 125\n",
      " 125  65 107 125 125  70 107   3 107   3 107 125 119   3 119 125 125  94\n",
      " 125 125 102 119  65 107 119 119 125 125 104 125 107 107 125 107 125 107\n",
      " 125 107 107 125 125  94 125 125 125  94 125 125 107 107 107  56 119 107\n",
      " 107 125 125 107 125 125 107 107 107 107 107 107 125   3 107 107 125  94\n",
      " 107  65 107  94 107 107 107 125 125 125 107 107 125  94 109 125 125 107\n",
      " 125 119 125 125 125 125 125 107 107 119 125 114 107 125 125  65  53  94\n",
      " 125 125 125 125 119   3 125  94 107 107 125 125 125  94 119 107  94 107\n",
      " 107 125 107 119]\n",
      "#neurons in the FM with highest average firing rate: 256\n",
      "----------------------------------------------------\n",
      "\n",
      "Current layer: block2_conv2\n",
      "Indices of FM with highest average firing rate in response to each image: \n",
      "[ 85  85  85  85   3  56  85  56  85  85 100  85  85  85  85  85  85  56\n",
      "  85  85  85  85  86  85  85  56  85  85  85  85  56  85  85  85  85  85\n",
      "  85  56  85  85  56  85  85  85  56  85  85  85  85  85  85  85  56  85\n",
      "  85  85  85  85  85  85  85  56  85  85  85  85  85  85  85  85  85  85\n",
      "  85  85  85  85  85  85  85  85  85  85  85 115  85  56  85  77  85  85\n",
      "  85  85  85  85  85  85  85  85  56  85   3  85  56 125  56  56   3  85\n",
      " 100 100  85  85  85  56  85  23  56  85  85  85  56  23  85  85  85 126\n",
      "  85   3 100  85  85  85 125  56  85  56  85   3  56  85  56 100  85 103\n",
      "  56 100 100  85 126  85 125  85  85  45  85  56  63  56  85  85  85 100\n",
      "  85 100  85   3  85   3  56  56  66 100  85  85  85  85  56  56  23  85\n",
      "  85  85   3 125  85  85  85  85  63   3  56  56 100  56  85  56  85  56\n",
      "  85 117  85  45  85 126 100  85  85 125  85  85 100  85  85  85  85  66\n",
      " 100 100  85  85  85  85  85  94  85  85  85  94  85  85  85  85  85  85\n",
      "  85  45 100  85  85  56  85  85 100 117 117  85  33 117  85  85  85  85\n",
      "  85  85  85  33  85 100 100  85  85 100  85 100  85  85 100  85  85  85\n",
      " 100  85 125  85  85  13  45  85  33  85  85  85  85  45  85  85  85  85\n",
      "   3  85  85  85 126 100  85  85 126  85  85  85 100  85  33  85  85  85\n",
      "  85  85  94  33  85  85  33  85  85  85  56 125 126  85  85  11  85 100\n",
      " 100 100  85 126  85  85   3  35  85  35  33  33   3 100 100  85  85  85\n",
      "  33  85 100  85 100 126  85  85  33  85  85  63  85  85 100  85  85 100\n",
      "  85  85  85  85  85 126 100  85  85  85  85  85  85 126 126  85  85  66\n",
      "  85  85  33  33  85  85  85  33 100  85  85  85  33  85  85  85  33 100\n",
      " 126 126 100  85]\n",
      "#neurons in the FM with highest average firing rate: 256\n",
      "----------------------------------------------------\n",
      "\n",
      "Current layer: block3_conv1\n",
      "Indices of FM with highest average firing rate in response to each image: \n",
      "[  2   2   2   2 218   2   2   2   2   2   2   2   2   2   2   2   2   2\n",
      "   2   2   2   2   2   2   2   2   2   2   2   2   2   2   2   2   2   2\n",
      "   2   2   2   2   2   2   2   2   2   2   2   2   2   2   2   2   2   2\n",
      "   2   2   2   2   2   2   2   2   2   2   2   2   2   2   2   2   2   2\n",
      "   2   2   2   2   2   2   2   2   2   2   2 218 218   2   2   2   2   2\n",
      "   2   2   2   2   2   2   2   2   2   2   2   2   2   2   2   2   2   2\n",
      "   2   2   2   2   2   2   2   2   2   2   2   2 218   2   2   2   2   2\n",
      "   2   2   2   2   2   2   2   2   2   2   2   2   2   2   2   2   2   2\n",
      "   2   2   2   2   2   2   2   2   2   2   2   2   2   2   2   2   2   2\n",
      "   2   2   2   2   2   2   2   2   2   2   2   2   2   2   2   2   2   2\n",
      "   2   2   2   2   2   2   2   2   2   2   2   2   2   2   2   2   2   2\n",
      "   2   2   2   2   2   2   2   2   2   2   2   2   2   2   2   2   2   2\n",
      "   2   2   2   2 218   2   2   2   2   2   2   2   2   2   2   2   2   2\n",
      "   2   2   2   2   2   2   2   2   2   2   2   2   2   2   2   2   2   2\n",
      "   2   2   2   2   2   2   2   2   2   2   2   2   2   2   2   2   2   2\n",
      "   2   2   2   2   2   2 201   2   2   2   2   2   2   2   2   2   2   2\n",
      " 218   2   2   2   2   2   2   2 218   2   2   2   2   2   2   2   2   2\n",
      "   2   2   2   2   2   2   2   2   2   2   2   2 219   2   2   2   2   2\n",
      "   2   2   2 218   2   2 201   2   2   2   2 218   2   2   2   2   2   2\n",
      "   2   2   2   2   2   2   2   2   2   2   2   2   2   2   2   2   2   2\n",
      "   2   2   2   2   2   2   2   2   2   2   2   2   2   2 219   2   2   2\n",
      "   2   2   2   2   2   2   2   2   2   2   2   2   2   2   2   2   2   2\n",
      " 218 218   2   2]\n",
      "#neurons in the FM with highest average firing rate: 64\n",
      "----------------------------------------------------\n",
      "\n"
     ]
    },
    {
     "name": "stdout",
     "output_type": "stream",
     "text": [
      "Current layer: block3_conv2\n",
      "Indices of FM with highest average firing rate in response to each image: \n",
      "[65 65 65 65 65 65 65 65 65 65 65 65 65 65 65 65 65 65 65 65 65 65 65 65\n",
      " 65 65 65 65 65 65 65 65 65 65 65 65 65 65 65 65 65 65 65 65 65 65 65 65\n",
      " 65 65 65 65 65 65 65 65 65 65 65 65 65 65 65 65 65 65 65 65 65 65 65 65\n",
      " 65 65 65 65 65 65 65 65 65 65 65 65 65 65 65 65 65 65 65 65 65 65 65 65\n",
      " 65 65 65 65 65 65 65 65 65 65 65 65 65 65 65 65 65 65 65 65 65 65 65 65\n",
      " 65 65 65 65 65 65 65 65 65 65 65 65 65 65 65 65 65 65 65 65 65 65 65 65\n",
      " 65 65 65 65 65 65 65 65 65 65 65 65 65 65 65 65 65 65 65 65 65 65 65 65\n",
      " 65 65 65 65 65 65 65 65 65 65 65 65 65 65 65 65 65 65 65 65 65 65 65 65\n",
      " 65 65 65 65 65 65 65 65 65 65 65 65 65 65 65 65 65 65 65 65 65 65 65 65\n",
      " 65 65 65 65 65 65 65 65 65 65 65 65 65 65 65 65 65 65 65 65 65 65 65 65\n",
      " 65 65 65 65 65 65 65 65 65 65 65 65 65 65 65 65 65 65 65 65 65 65 65 65\n",
      " 65 65 65 65 65 65 65 65 65 65 65 65 65 65 65 65 65 65 65 65 65 65 65 65\n",
      " 65 65 65 65 65 65 65 65 65 65 65 65 65 65 65 65 65 65 65 65 65 65 65 65\n",
      " 65 65 65 65 65 65 65 65 65 65 65 65 65 65 65 65 65 65 65 65 65 65 65 65\n",
      " 65 65 65 65 65 65 65 65 65 65 65 65 65 65 65 65 65 65 65 65 65 65 65 65\n",
      " 65 65 65 65 65 65 65 65 65 65 65 65 65 65 65 65 65 65 65 65 65 65 65 65\n",
      " 65 65 65 65 65 65 65 65 65 65 65 65 65 65 65 65]\n",
      "#neurons in the FM with highest average firing rate: 64\n",
      "----------------------------------------------------\n",
      "\n",
      "Current layer: block3_conv3\n",
      "Indices of FM with highest average firing rate in response to each image: \n",
      "[ 54  54  54  54  54  54  54  54  54  54  54  54  54  54  54  54  54  54\n",
      "  54  54  54  54  54  54  54  54  54  54  54  54  54  54  54  54  54  54\n",
      "  54  54  54  54  54  54  54  54  54  54  54  54  54  54  54  54  54  54\n",
      "  54  54  54  54  54  54  54  54  54  54  54  54  54  54  54  54  54  54\n",
      "  54  54  54  54  54  54  54  54  54  54  54  54  54  54  54  54  54  54\n",
      "  54  54  54  54  54  54  54  54  54  54  54  54  54  54  54  54  54  54\n",
      "  54  54  54  54  54  54  54  54  54  54  54  54  54  54  54  54  54  54\n",
      "  54  54  54  54  54  54  54  54  54  54  54  54  54  54  54  54  54  54\n",
      "  54  54  54  54  54  54  54  54  54  54  54  54  54  54  54  54  54  54\n",
      "  54  54  54  54  54  54  54  54  54  54  54  54  54  54  54  54  54  54\n",
      "  54  54  54  54  54  54  54  54  54  54  54  54  54  54  54  54  54  54\n",
      "  54  54  54  54  54  54  54  54  54  54  54  54  54  54  54  54  54  54\n",
      "  54  54  54  54  54  54  54  54  54  54  54  54  54  54  54  54  54  54\n",
      "  54  54  54  54  54  54  54  54  54  54  54  54  54  54  54  54  54  54\n",
      "  54  54  54  54  54  54  54  54  54  54  54  54  54  54  54  54  54  54\n",
      "  54  54  54  54  54  54  54  54  54  54  54  54  54  54  54  54  54  54\n",
      "  54  54  54  54  54  54  54  54  54  54 124  54  54  54  54  54  54  54\n",
      "  54  54  54  54  54  54  54  54  54  54  54  54  54  54  54  54  54  54\n",
      "  54  54  54  54  54  54  54  54  54  54  54  54  54  54  54  54  54  54\n",
      "  54  54  54  54  54  54  54  54  54  54  54  54  54  54  54  54  54  54\n",
      "  54  54  54  54  54  54  54  54  54  54  54  54  54  54  54  54  54  54\n",
      "  54  54  54  54  54  54  54  54  54  54  54  54  54  54  54  54  54  54\n",
      "  54  54  54  54]\n",
      "#neurons in the FM with highest average firing rate: 64\n",
      "----------------------------------------------------\n",
      "\n",
      "Current layer: block4_conv1\n",
      "Indices of FM with highest average firing rate in response to each image: \n",
      "[461 461 461 461 461 461 461 461 461 461 461 461 461 461 461 461 461 461\n",
      " 461 461 461 461 461 461 461 461 461 461 461 461 461 461 461 461 461 461\n",
      " 461 461 461 461 461 461 461 461 461 461 461 461 461 461 461 461 461 461\n",
      " 461 461 461 461 461 461 461 461 461 461 461 461 461 461 461 461 461 461\n",
      " 461 461 461 461 461 461 461 461 461 461 461 461 461 461 461 461 461 461\n",
      " 461 461 461 461 461 461 461 461 461 461 461 461 461 461 461 461 461 461\n",
      " 461 461 461 461 461 461 461 461 461 461 461 461 461 461 461 461 461 461\n",
      " 461 461 461 461 461 461 461 461 461 461 461 461 461 461 461 461 461 461\n",
      " 461 461 461 461 461 461 461 461 461 461 461 461 461 461 461 461 461 461\n",
      " 461 461 461 461 461 461 461 461 461 461 461 461 461 461 461 461 461 461\n",
      " 461 461 461 461 461 461 461 461 461 461 461 461 461 461 461 461 461 461\n",
      " 461 461 461 461 461 461 461 461 461 461 461 461 461 461 461 461 461 461\n",
      " 461 461 461 461 461 461 461 461 461 461 461 461 461 461 461 461 461 461\n",
      " 461 461 461 461 461 461 461 461 461 461 461 461 461 461 461 461 461 461\n",
      " 461 461 461 461 461 461 461 461 461 461 461 461 461 461 461 461 461 461\n",
      " 461 461 461 461 461 461 461 461 461 461 461 461 461 461 461 461 461 461\n",
      " 461 461 461 461 461 461 461 461 461 461 461 461 461 461 461 461 461 461\n",
      " 461 461 461 461 461 461 461 461 461 461 461 461 461 461 461 461 461 461\n",
      " 461 461 461 461 461 461 461 461 461 461 461 461 461 461 461 461 461 461\n",
      " 461 461 461 461 461 461 461 461 461 461 461 461 461 461 461 461 461 461\n",
      " 461 461 461 461 461 461 461 461 461 461 461 461 461 461 461 461 461 461\n",
      " 461 461 461 461 461 461 461 461 461 461 461 461 461 461 461 461 461 461\n",
      "  45 461 461 461]\n",
      "#neurons in the FM with highest average firing rate: 16\n",
      "----------------------------------------------------\n",
      "\n",
      "Current layer: block4_conv2\n",
      "Indices of FM with highest average firing rate in response to each image: \n",
      "[ 24  24  26  24 142 143 223  24 470  24  24 223  24  24  24  24  24  24\n",
      "  24 247 450  24  24  24 216  24  24  24  24  24  24  24 469  24  24  24\n",
      "  24 488  24  24 470 223  24  24  24  24  24  24 254  24  24  24  95  24\n",
      "  24 470  24 223  24  24  24  24  24 436  24 216 478 470  24  24  24  24\n",
      " 160 143  24 470  24  24 470 470  24 470 403  24 143  24  24  26  24  24\n",
      "  18 470  24 222  24 143  95 470 231  24  24  24 143  24 470  24  24  24\n",
      " 143  24  26 231  24  24  24  26  24  24  24  24 478  26  18  24 403 143\n",
      " 143  24  24  24  24 403  24 470  95 223  26  24  24  24  24  24  24  24\n",
      " 223  24 223  24 143  24 143 143 470  26  24  24  26 223  24  95  24  24\n",
      "  24  24  24  24 470  24  24 404  24  18  24 223  24  24  24  24  26  24\n",
      "  24 143 143  24 436  24 143  24  26  24  95 202 223 143 143  24  24  26\n",
      "  24 404  24  24 449  24  24  24  24 142  24  24  24  24  24  24  24 162\n",
      "  24  24  24 143 142  24  24 478 470  24  24 142  24  24  24  24 470  24\n",
      "  24  24  24 408  24  24  24  24  24  24 223  24  24  24  24  24  24 478\n",
      "  24 142  24  24  24  24 143  24 143  24  24  24  24  24  24  24  24  24\n",
      "  24 466  24  24  24  24 380  24  24  24  24 142  24  24 142  24  24  24\n",
      "  24 470  24  24  24 470 470  24 143  24 404 142 129  24  24  24  24 143\n",
      "  24  24  24  24 404 142  24  24 186 142 470  24  24  24  24  24  24  24\n",
      "  24  24 142  24  24  24 380 104  24 470  24  24  24  24  24 403  24  24\n",
      " 164  24  24 142  24  24  24 142 142  24  24 223  24 470 143  24  24 142\n",
      "  24  24  24  24  24  24  24  24  24  24  24 478 142 142  24  24  24 469\n",
      "  24  24  24  24 142  24  24  24 142  24  24  24  24  24  24  24 164 142\n",
      "  24 142 142  24]\n",
      "#neurons in the FM with highest average firing rate: 16\n",
      "----------------------------------------------------\n",
      "\n",
      "Current layer: block4_conv3\n",
      "Indices of FM with highest average firing rate in response to each image: \n",
      "[328 157 443  22 325 118 218 463  32 214 353 296 282 464 135 448 121 160\n",
      "  32 321 188 332 412  32  73 508 130  45 394  25 401 381 218 296  22 296\n",
      " 384  87 118  32 135 107 213 415 214 249 443 401 142 218 429 388  60  46\n",
      " 381  32 130  64 118 369 131  87  30 218 188 359  73  32  73 118 218 105\n",
      " 214 296  46 130  45 388 105 483  32 123  52  64 185  33 296 443 118  32\n",
      " 118 118  16  32 460 443  64 214 204  64 407 443 300 505 188 213 213 118\n",
      " 314  22 443 282 213   2 505 443 353 173 121 218 188 443 479 443 118 390\n",
      " 118 443 173 118 188  46 406 314 505 359 443 144 188 349  54  12 121 173\n",
      "  54 392 173 118 165 388  54 264 214 443 118 443 443 114 390  32 434 188\n",
      "  60 509 188 483  32   0  60 434 188 118 371  60 282 468 193 121 443 173\n",
      " 218 392 443  94 118 200 441 328 443 443 443 314 118 443 353 475 188 443\n",
      " 213  94  87 407 485 296 188 486 407  92 118  56 213 121 249 188 363 473\n",
      " 118 188 213 463  92  86 218 331 144 464 118 114 499 261 282 118 200 121\n",
      " 441 363 188 118  22  37 213 211 363 188 461 392 188  86 468   8  94 152\n",
      " 462 168 213  22 211 213  94 188  87  94 363 188 486  30 486 213 173 353\n",
      " 363 200 249 455  64 441 188  25 292 282 406 118 173 486  30 296 460 261\n",
      " 463 103 188 392 407   8 473 118 449 486 176 121 468 173 188 188  32 282\n",
      " 282 282 188  22 176  34   8 417 216  92 121 118  25 462 188 443  30 213\n",
      " 213 188 282 134 407 282 188  87  86   8 131 141 188 188 443 490  22 188\n",
      " 211 282 200 417 282 188 118  32  25 188 188 176  46 341  34 131 282 282\n",
      " 354 188 118 188 188 114 454 417 188 417  41 443  92 454 454 473 369 490\n",
      " 282  92 173 152 296  94  86 163 188 314 213 213 282 282 188 282 417 188\n",
      " 188 188 188 211]\n",
      "#neurons in the FM with highest average firing rate: 16\n",
      "----------------------------------------------------\n",
      "\n"
     ]
    },
    {
     "name": "stdout",
     "output_type": "stream",
     "text": [
      "Current layer: block5_conv1\n",
      "Indices of FM with highest average firing rate in response to each image: \n",
      "[410 410 410 410 410 410 410 410 410 410 410 410 410 410 410 410 410 410\n",
      " 410 410 410 410 410 410 410 410 410 410 410 410 410 410 410 410 410 410\n",
      " 410 410 410 474 410 410 410 410 410 410 410 410 410 410 410 410 410 410\n",
      " 410 410 410 410 410 410 410 410 410 410 410 410 410 410 410 410 410 410\n",
      " 410 410 410 410 410 410 410 410 410 410 410 410 410 410 410 410 410 410\n",
      " 410 410 410 410 410 410 410 410 410 410 410 410 410 410 410 410 410 410\n",
      " 410 410 410 410 410 410 410 410 410 410 410 410 172   1 410 410 410 410\n",
      " 410 410 410 410 474 410 410 410 410 410 410 410 410 410 410 410 410 410\n",
      " 410 410 410 410 410 410 410 410 410 410 410 410 410 410 410 410 410 410\n",
      " 410 410 410 410 410 410 410 410 410 410 117 410 410 410 410 410 410 474\n",
      " 410 410 410 410 410 410 410 410 410 410 410 410 410 410 410 410 410 410\n",
      " 410 410 410 410 410 410 410 410 410 410 410 410 410 410 410 410 410 410\n",
      " 410 410 410 410 410 410 410 395 410 410 410 410 410 410 410 410 410 410\n",
      " 410 410 410 410 474 410 410 410 410 410 410 410 410 410 410 410 410 410\n",
      " 410 410 410 410 410 410 410 410 410 410 410 410 410 410 410 410 410 410\n",
      " 410 410 410 410 410 410 410 410 410 410 410 410 410 410 410 410 410 410\n",
      " 410 410 410 410 410 410 410 410 410 410 410 410 410 117 410 410 410 410\n",
      " 410 410 410 410 410 410 410 410 410 410 410 410 410 410 410 410 410 410\n",
      " 410 410 410 410 410 410 410 410 410 410 410 410 410 410 410 410 410 410\n",
      " 170 410 410 410 410 410 410 410 436 410 410 410 410 410 410 410 410 410\n",
      " 410 410 410 410 410 410 410 410 410 410 410 410 410 117 479 410 410 410\n",
      " 410 410 410 410 410 410 410 410 410 410 410 410 410 410 410 410 410 410\n",
      " 410 410 410 436]\n",
      "#neurons in the FM with highest average firing rate: 4\n",
      "----------------------------------------------------\n",
      "\n",
      "Current layer: block5_conv2\n",
      "Indices of FM with highest average firing rate in response to each image: \n",
      "[284  55  55 284  55  55 284  55 167  55  55 284  55  55  55  55 284  55\n",
      "  55  55  55 400 115  55 167  55 284  55  55  55 284 177 457 284  55 284\n",
      " 284  55  55 284  55  55  55 284  55  55  55 103  55 399  55 284  55 376\n",
      " 149  55 284  55 131  55  55 415  55 284  55 399  55 167 167  55 284  55\n",
      "  55  55  55 284 167 457 284  55 167  55 284 198  55  55 284  55  55 284\n",
      " 484 167 284 173  55 173  55  55  55 167  55  55 284  55  55  55  55  55\n",
      " 505  55  55 391 505  55  55  55 284  55 484 284 484 115 284 401  55  55\n",
      " 396  55  55  55 177 463  55  55 103 484 198  55  55  55  55  55 284  55\n",
      "  55  55  55 284  55  55  55 484  55  55 284  55 401 396  55  55 284 284\n",
      "  55  55 284  55 284  55  55 426  55  55 103 463 284  55  55  55 115 391\n",
      " 284  55  55 502 484 376 198  55 115 115  55 198 103 284 284  55 198  55\n",
      " 284 499 284  55 495 284 505  55 505 284  55  55  55  55  55  55  55  55\n",
      " 457 426 198 434 284 499 149 499  88  41 463 198 212  55 198 284  55 391\n",
      "  55  55  55  55  55  55 505 118  55  55 198 284  55  55  55  55 284 457\n",
      " 167 434 502  55 118  89 391  55 463 505  55  55 401  88 505  55 463  55\n",
      " 497 499  88 212 118  55 177  55  55 198  55 284 177 463  89  55 391  55\n",
      "  55  88  88  55 505  55  55 284  92 198 173 391 445 248  88 284 116  92\n",
      " 198 104 198  55 426  55  55  55 168 276  55 327  55  55  55 198  55  55\n",
      "  55 353 284 227 457 227 505  88  55 310 118  41  55  55  55  55  23 198\n",
      " 446 284 338  55 505  55  55  55  55 505 177 173 302  55 198  55  55 198\n",
      "  55 401 173 115 177  55  55  55  92  55  55  88 505 499 499 499 284  55\n",
      "  55 400 177 276 391  55 499 499 505 114  55 179  55  55 115  88 376  88\n",
      "  55  23  55 118]\n",
      "#neurons in the FM with highest average firing rate: 4\n",
      "----------------------------------------------------\n",
      "\n",
      "Current layer: block5_conv3\n",
      "Indices of FM with highest average firing rate in response to each image: \n",
      "[ 71 182 474 124 277 335 124 454 335 232   2 500  71 109 497  25 143 132\n",
      " 171 335 124 359 487 497 124 225 124 452  21 124 472 124 124 327 121 124\n",
      " 335 232 124 124 312 261 124 328 292   0 487 472 171 108   0 476 251  71\n",
      " 253 386 261 232 292 368 370 232 149 124 124 228 124 156 124 292 124 171\n",
      " 288  71 309 124 494 124 171 386 124 171 124  44  94 246 124 487  26 335\n",
      " 350 211 132 381 124 474 335 327 132 335  63 213 472 132  94 365  92 334\n",
      " 213 149 474  12   2 375 353 384 327 132 132 335 132  53 381 487 381   2\n",
      "  54  94 316  26  94 247 240  26 414 298  94 213 487 449 353 304 213 472\n",
      " 132  71  26  26 158 283 266 358 312 201 124 120 487  94 353 158  92  72\n",
      " 375 327 124 213 225 327 132 201 353 283 158  94   2 327 225 353  53 247\n",
      " 124  71  94 213 334 484 455 359 487  53 487 120 472 201 327 292 213 487\n",
      " 327 213 261  94 474  45 213 261 213  72 413  72 489 353  44 108 149 235\n",
      "  58 133 472 439 149  31 494 439 213 370  71  71 370 108 487 231 359 308\n",
      " 213 213  83 316   2 472 335 263 213  71   2 142 108  71  71 432  72 228\n",
      " 474 228 213 489 263 149  72 149 213  72 149  83 455 455   2  71 494 149\n",
      " 149 439 213 263  83 455  94 359 108 474 472  92 261 472 316 213 370 261\n",
      " 149 213 121  54  94  94  29 472  44 149  72 261  44 159  83 472 149   2\n",
      "  71 213  71 472  72   2 213 411 159 199 308 213  45  71 149  53  99 213\n",
      "  83  83  72 159  94 489  94  96 359 298 370 213  83 213 487 308  28 213\n",
      " 247  71 213 235  30  83 359  54 213 213  83  72 413  39 120 263 124  71\n",
      " 341 474 474  83 213   2  72 474  83 489 231 487 213 159 235 159 124 139\n",
      "  71 213   2 235 109 213 199 136 149 474 124 370 199  71 211 472  54 149\n",
      " 489 277 213  39]\n",
      "#neurons in the FM with highest average firing rate: 4\n",
      "----------------------------------------------------\n",
      "\n"
     ]
    },
    {
     "data": {
      "text/plain": [
       "(400, 2812)"
      ]
     },
     "execution_count": 33,
     "metadata": {},
     "output_type": "execute_result"
    }
   ],
   "source": [
    "neuron_output_hightest = compute_neuron_output(layer_indices = range(21), n_images_per_class = 100, image_classes = [0,1,3,5]) # 'airplane','automobile','cat','dog'\n",
    "neuron_output_hightest.shape"
   ]
  },
  {
   "cell_type": "code",
   "execution_count": 238,
   "metadata": {},
   "outputs": [],
   "source": [
    "image_class_labels = np.hstack(([0]*100,[1]*100,[3]*100,[5]*100))"
   ]
  },
  {
   "cell_type": "code",
   "execution_count": 273,
   "metadata": {},
   "outputs": [],
   "source": [
    "def diffusion_maps(X):\n",
    "    ## diffusion map with automatic epsilon detection:\n",
    "    mydmap = dm.DiffusionMap.from_sklearn(n_evecs = 3, alpha = 12, epsilon = 'bgh', k=64)\n",
    "    ## QUESTION: why division by zero when epsilon is not bgh automatic detection?\n",
    "    \n",
    "    # Fit to and transform the data\n",
    "    X_dmap = mydmap.fit_transform(X)\n",
    "    print(X_dmap[:,0].shape)\n",
    "    \n",
    "    embedding_plot(mydmap, dim=3, scatter_kwargs = {'c':image_class_labels, 'cmap': 'Spectral'})\n",
    "    plt.show()"
   ]
  },
  {
   "cell_type": "code",
   "execution_count": 274,
   "metadata": {},
   "outputs": [
    {
     "name": "stdout",
     "output_type": "stream",
     "text": [
      "(400,)\n"
     ]
    },
    {
     "data": {
      "image/png": "[encoded data removed]",
      "text/plain": [
       "<Figure size 432x432 with 1 Axes>"
      ]
     },
     "metadata": {
      "needs_background": "light"
     },
     "output_type": "display_data"
    }
   ],
   "source": [
    "diffusion_maps(neuron_output_hightest)"
   ]
  },
  {
   "cell_type": "code",
   "execution_count": 217,
   "metadata": {},
   "outputs": [],
   "source": [
    "from scipy.linalg import eigh\n",
    "import numpy as np\n",
    "import matplotlib.pyplot as plt\n",
    "import scipy.io as sio\n",
    "from scipy.spatial.distance import pdist\n",
    "from sklearn.metrics.pairwise import euclidean_distances\n",
    "from sklearn.datasets import fetch_openml\n",
    "from sklearn.datasets import load_digits\n",
    "from sklearn.model_selection import train_test_split\n",
    "from matplotlib.offsetbox import OffsetImage, AnnotationBbox"
   ]
  },
  {
   "cell_type": "code",
   "execution_count": 41,
   "metadata": {},
   "outputs": [],
   "source": [
    "def my_diffmap(xs, sigma, t, m):\n",
    "    W = np.exp(-euclidean_distances(xs, xs) ** 2 /(2 * (sigma ** 2)))\n",
    "    \n",
    "    ## d is a vector containing the row sums of W\n",
    "    d = W.sum(axis=0)\n",
    "    D_inv = np.diag(1/d)\n",
    "    D_left = np.diag(d ** (-0.5))\n",
    "    D_right = np.diag(d ** 0.5)\n",
    "    \n",
    "    M = D_inv @ W\n",
    "    M_s = (D_right @ M) @ D_left\n",
    "    \n",
    "    ## M_s has nice real eigvecs and eigvals\n",
    "    eigvals, eigvecs = eigh(M_s)\n",
    "    idx = eigvals.argsort()[::-1]\n",
    "    eigvals = eigvals[idx]\n",
    "    eigvecs = eigvecs[:, idx]\n",
    "\n",
    "    Phi = D_left @ eigvecs\n",
    "    Lambda = eigvals ** t\n",
    "    \n",
    "    diffusion_map = Phi @ np.diag(Lambda)\n",
    "    diffusion_map_trunc = diffusion_map[:,1:(m + 1)]\n",
    "     \n",
    "#     diffusion_map_trunc = eigvecs[:,1:(m + 1)] @ np.diag(eigvals[1:(m + 1)]) \n",
    "    \n",
    "    return diffusion_map_trunc"
   ]
  },
  {
   "cell_type": "code",
   "execution_count": 305,
   "metadata": {},
   "outputs": [],
   "source": [
    "diffusion_map_trunc = my_diffmap(neuron_output_hightest, sigma = 3500, t = 1, m = 3)"
   ]
  },
  {
   "cell_type": "code",
   "execution_count": 306,
   "metadata": {},
   "outputs": [
    {
     "data": {
      "text/plain": [
       "(400, 3)"
      ]
     },
     "execution_count": 306,
     "metadata": {},
     "output_type": "execute_result"
    }
   ],
   "source": [
    "diffusion_map_trunc.shape"
   ]
  },
  {
   "cell_type": "code",
   "execution_count": 307,
   "metadata": {},
   "outputs": [
    {
     "data": {
      "text/plain": [
       "array([[-1.06688759e-04,  2.65055918e-04, -5.76666979e-06],\n",
       "       [-6.51677010e-04,  1.38841495e-03, -3.28772774e-05],\n",
       "       [ 5.68934309e-03,  4.80744302e-03,  6.07329425e-04],\n",
       "       ...,\n",
       "       [-8.71436836e-03,  4.73516095e-03, -2.32736850e-02],\n",
       "       [-6.47343100e-04,  1.40505343e-03, -3.70688653e-05],\n",
       "       [-6.51650682e-04,  1.38841202e-03, -3.28724554e-05]])"
      ]
     },
     "execution_count": 307,
     "metadata": {},
     "output_type": "execute_result"
    }
   ],
   "source": [
    "diffusion_map_trunc"
   ]
  },
  {
   "cell_type": "code",
   "execution_count": 308,
   "metadata": {},
   "outputs": [],
   "source": [
    "image_class_labels = np.hstack(([0]*100,[1]*100,[3]*100,[5]*100))"
   ]
  },
  {
   "cell_type": "code",
   "execution_count": 309,
   "metadata": {},
   "outputs": [
    {
     "data": {
      "text/plain": [
       "(400,)"
      ]
     },
     "execution_count": 309,
     "metadata": {},
     "output_type": "execute_result"
    }
   ],
   "source": [
    "image_class_labels.shape"
   ]
  },
  {
   "cell_type": "code",
   "execution_count": 310,
   "metadata": {},
   "outputs": [
    {
     "data": {
      "text/plain": [
       "<mpl_toolkits.mplot3d.art3d.Path3DCollection at 0x1bbd1143970>"
      ]
     },
     "execution_count": 310,
     "metadata": {},
     "output_type": "execute_result"
    },
    {
     "data": {
      "image/png": "[encoded data removed]",
      "text/plain": [
       "<Figure size 432x288 with 1 Axes>"
      ]
     },
     "metadata": {
      "needs_background": "light"
     },
     "output_type": "display_data"
    }
   ],
   "source": [
    "ax = plt.axes(projection =\"3d\")\n",
    "ax.scatter3D(diffusion_map_trunc[:,0], diffusion_map_trunc[:,1], diffusion_map_trunc[:,2],c = image_class_labels,  cmap ='Spectral')"
   ]
  },
  {
   "cell_type": "markdown",
   "metadata": {},
   "source": [
    "### Compute a matrix with output values for all neurons in layer 1 for test images 0:20"
   ]
  },
  {
   "cell_type": "code",
   "execution_count": null,
   "metadata": {},
   "outputs": [],
   "source": [
    "out_all_neurons_images = []\n",
    "for i in range(20):\n",
    "    if i == 0: \n",
    "        out_all_neurons_images = compute_neuron_output(layer_index = 1, image_index = 0)\n",
    "    else:\n",
    "        out_all_neurons_im = compute_neuron_output(layer_index = 1, image_index = i)\n",
    "        out_all_neurons_images = np.hstack((out_all_neurons_images, out_all_neurons_im))\n",
    "out_all_neurons_images.shape"
   ]
  },
  {
   "cell_type": "code",
   "execution_count": null,
   "metadata": {},
   "outputs": [],
   "source": [
    "print(\"Show the matrix with neuron outputs (neurons-by-images):\")\n",
    "print(out_all_neurons_images)"
   ]
  },
  {
   "cell_type": "code",
   "execution_count": null,
   "metadata": {},
   "outputs": [],
   "source": [
    "def apply_all_vertical_shifts(im):\n",
    "    im_all_shifts = np.empty((32,32,32,3), dtype=int)\n",
    "    im_vec = im.reshape(32*32,3)\n",
    "    \n",
    "    for i in range(32):\n",
    "        im_shift = np.roll(im_vec,i*3*32)\n",
    "        im_shift = im_shift.reshape((32,32,3))\n",
    "        im_all_shifts[i] = im_shift\n",
    "    return im_all_shifts"
   ]
  },
  {
   "cell_type": "code",
   "execution_count": null,
   "metadata": {},
   "outputs": [],
   "source": [
    "im_all_shifts = apply_all_vertical_shifts(im1)\n",
    "print(im_all_shifts.shape)\n",
    "\n",
    "fig, axs = plt.subplots(4,8, figsize = (28,28))\n",
    "for i , ax in enumerate(axs.flatten()):\n",
    "    ax.imshow(im_all_shifts[i,:,:,:])\n",
    "fig.suptitle('Visualizing Vertical Shifts', fontsize=30)"
   ]
  },
  {
   "cell_type": "markdown",
   "metadata": {},
   "source": [
    "### Applying horizontal shifts:\n",
    "**note applying horizontal shifts is just transpose the image first, applying vertical shifts and then transpose back**"
   ]
  },
  {
   "cell_type": "code",
   "execution_count": null,
   "metadata": {},
   "outputs": [],
   "source": [
    "im1_T = np.transpose(im1, (1, 0, 2))"
   ]
  },
  {
   "cell_type": "code",
   "execution_count": null,
   "metadata": {},
   "outputs": [],
   "source": [
    "x_test.shape"
   ]
  },
  {
   "cell_type": "code",
   "execution_count": null,
   "metadata": {},
   "outputs": [],
   "source": [
    "im_all_shifts_T = apply_all_vertical_shifts(im1_T)\n",
    "print(im_all_shifts_T.shape)\n",
    "\n",
    "fig, axs = plt.subplots(4,8, figsize = (28,28))\n",
    "for i , ax in enumerate(axs.flatten()):\n",
    "    im_all_shifts_T[i,:,:,:] = np.transpose(im_all_shifts_T[i,:,:,:], (1, 0, 2))\n",
    "    ax.imshow(im_all_shifts_T[i,:,:,:])\n",
    "fig.suptitle('Visualizing Horizontal Shifts', fontsize=30)"
   ]
  }
 ],
 "metadata": {
  "accelerator": "GPU",
  "colab": {
   "collapsed_sections": [],
   "name": "VGG16.ipynb",
   "provenance": []
  },
  "kernelspec": {
   "display_name": "Python 3",
   "language": "python",
   "name": "python3"
  },
  "language_info": {
   "codemirror_mode": {
    "name": "ipython",
    "version": 3
   },
   "file_extension": ".py",
   "mimetype": "text/x-python",
   "name": "python",
   "nbconvert_exporter": "python",
   "pygments_lexer": "ipython3",
   "version": "3.8.5"
  }
 },
 "nbformat": 4,
 "nbformat_minor": 1
}
